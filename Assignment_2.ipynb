{
  "metadata": {
    "kernelspec": {
      "language": "python",
      "display_name": "Python 3",
      "name": "python3"
    },
    "language_info": {
      "pygments_lexer": "ipython3",
      "nbconvert_exporter": "python",
      "version": "3.6.4",
      "file_extension": ".py",
      "codemirror_mode": {
        "name": "ipython",
        "version": 3
      },
      "name": "python",
      "mimetype": "text/x-python"
    },
    "colab": {
      "provenance": [],
      "collapsed_sections": [
        "da51f810",
        "ff05ecad",
        "bfc2f692"
      ]
    },
    "accelerator": "GPU",
    "gpuClass": "standard"
  },
  "nbformat_minor": 0,
  "nbformat": 4,
  "cells": [
    {
      "cell_type": "markdown",
      "source": [
        "# Assignment 2\n",
        "\n",
        "**Credits**: Andrea Galassi, Federico Ruggeri, Paolo Torroni\n",
        "\n",
        "**Keywords**: Transformers, Question Answering, CoQA"
      ],
      "metadata": {
        "id": "3617883f",
        "papermill": {
          "duration": 0.015198,
          "end_time": "2022-12-29T15:37:18.432812",
          "exception": false,
          "start_time": "2022-12-29T15:37:18.417614",
          "status": "completed"
        },
        "tags": []
      }
    },
    {
      "cell_type": "markdown",
      "source": [
        "## Deadlines\n",
        "\n",
        "* **December 11**, 2022: deadline for having assignments graded by January 11, 2023\n",
        "* **January 11**, 2023: deadline for half-point speed bonus per assignment\n",
        "* **After January 11**, 2023: assignments are still accepted, but there will be no speed bonus"
      ],
      "metadata": {
        "id": "85bb07c0",
        "papermill": {
          "duration": 0.013479,
          "end_time": "2022-12-29T15:37:18.460150",
          "exception": false,
          "start_time": "2022-12-29T15:37:18.446671",
          "status": "completed"
        },
        "tags": []
      }
    },
    {
      "cell_type": "markdown",
      "source": [
        "## Overview"
      ],
      "metadata": {
        "id": "2281b040",
        "papermill": {
          "duration": 0.024252,
          "end_time": "2022-12-29T15:37:18.502338",
          "exception": false,
          "start_time": "2022-12-29T15:37:18.478086",
          "status": "completed"
        },
        "tags": []
      }
    },
    {
      "cell_type": "markdown",
      "source": [
        "### Problem\n",
        "\n",
        "Question Answering (QA) on [CoQA](https://stanfordnlp.github.io/coqa/) dataset: a conversational QA dataset."
      ],
      "metadata": {
        "id": "5057894c",
        "papermill": {
          "duration": 0.01937,
          "end_time": "2022-12-29T15:37:18.547788",
          "exception": false,
          "start_time": "2022-12-29T15:37:18.528418",
          "status": "completed"
        },
        "tags": []
      }
    },
    {
      "cell_type": "markdown",
      "source": [
        "### Task\n",
        "\n",
        "Given a question $Q$, a text passage $P$, the task is to generate the answer $A$.<br>\n",
        "$\\rightarrow A$ can be: (i) a free-form text or (ii) unanswerable;\n",
        "\n",
        "**Note**: an question $Q$ can refer to previous dialogue turns. <br>\n",
        "$\\rightarrow$ dialogue history $H$ may be a valuable input to provide the correct answer $A$."
      ],
      "metadata": {
        "id": "8dac28c1",
        "papermill": {
          "duration": 0.018931,
          "end_time": "2022-12-29T15:37:18.586432",
          "exception": false,
          "start_time": "2022-12-29T15:37:18.567501",
          "status": "completed"
        },
        "tags": []
      }
    },
    {
      "cell_type": "markdown",
      "source": [
        "### Models\n",
        "\n",
        "We are going to experiment with transformer-based models to define the following models:\n",
        "\n",
        "1.  $A = f_\\theta(Q, P)$\n",
        "\n",
        "2. $A = f_\\theta(Q, P, H)$\n",
        "\n",
        "where $f_\\theta$ is the transformer-based model we have to define with $\\theta$ parameters."
      ],
      "metadata": {
        "id": "4b748088",
        "papermill": {
          "duration": 0.013515,
          "end_time": "2022-12-29T15:37:18.613361",
          "exception": false,
          "start_time": "2022-12-29T15:37:18.599846",
          "status": "completed"
        },
        "tags": []
      }
    },
    {
      "cell_type": "markdown",
      "source": [
        "## The CoQA dataset"
      ],
      "metadata": {
        "id": "25dd5e48",
        "papermill": {
          "duration": 0.013146,
          "end_time": "2022-12-29T15:37:18.639808",
          "exception": false,
          "start_time": "2022-12-29T15:37:18.626662",
          "status": "completed"
        },
        "tags": []
      }
    },
    {
      "cell_type": "markdown",
      "source": [
        "<center>\n",
        "    <img src=\"https://drive.google.com/uc?export=view&id=16vrgyfoV42Z2AQX0QY7LHTfrgektEKKh\" width=\"750\"/>\n",
        "</center>"
      ],
      "metadata": {
        "id": "fa60eaa1",
        "papermill": {
          "duration": 0.018247,
          "end_time": "2022-12-29T15:37:18.671522",
          "exception": false,
          "start_time": "2022-12-29T15:37:18.653275",
          "status": "completed"
        },
        "tags": []
      }
    },
    {
      "cell_type": "markdown",
      "source": [
        "For detailed information about the dataset, feel free to check the original [paper](https://arxiv.org/pdf/1808.07042.pdf).\n",
        "\n"
      ],
      "metadata": {
        "id": "5d3105d3",
        "papermill": {
          "duration": 0.02081,
          "end_time": "2022-12-29T15:37:18.715864",
          "exception": false,
          "start_time": "2022-12-29T15:37:18.695054",
          "status": "completed"
        },
        "tags": []
      }
    },
    {
      "cell_type": "markdown",
      "source": [
        "## Rationales\n",
        "\n",
        "Each QA pair is paired with a rationale $R$: it is a text span extracted from the given text passage $P$. <br>\n",
        "$\\rightarrow$ $R$ is not a requested output, but it can be used as an additional information at training time!"
      ],
      "metadata": {
        "id": "96da63b6",
        "papermill": {
          "duration": 0.024743,
          "end_time": "2022-12-29T15:37:18.763638",
          "exception": false,
          "start_time": "2022-12-29T15:37:18.738895",
          "status": "completed"
        },
        "tags": []
      }
    },
    {
      "cell_type": "markdown",
      "source": [
        "## Dataset Statistics\n",
        "\n",
        "* **127k** QA pairs.\n",
        "* **8k** conversations.\n",
        "* **7** diverse domains: Children's Stories, Literature, Mid/High School Exams, News, Wikipedia, Reddit, Science.\n",
        "* Average conversation length: **15 turns** (i.e., QA pairs).\n",
        "* Almost **half** of CoQA questions refer back to **conversational history**.\n",
        "* Only **train** and **validation** sets are available."
      ],
      "metadata": {
        "id": "aca6098f",
        "papermill": {
          "duration": 0.025798,
          "end_time": "2022-12-29T15:37:18.820666",
          "exception": false,
          "start_time": "2022-12-29T15:37:18.794868",
          "status": "completed"
        },
        "tags": []
      }
    },
    {
      "cell_type": "markdown",
      "source": [
        "## Dataset snippet\n",
        "\n",
        "The dataset is stored in JSON format. Each dialogue is represented as follows:\n",
        "\n",
        "```\n",
        "{\n",
        "    \"source\": \"mctest\",\n",
        "    \"id\": \"3dr23u6we5exclen4th8uq9rb42tel\",\n",
        "    \"filename\": \"mc160.test.41\",\n",
        "    \"story\": \"Once upon a time, in a barn near a farm house, there lived a little white kitten named Cotton. \n",
        "    Cotton lived high up in a nice warm place above the barn where all of the farmer's horses slept. [...]\" % <-- $P$\n",
        "    \"questions\": [\n",
        "        {\n",
        "            \"input_text\": \"What color was Cotton?\",   % <-- $Q_1$\n",
        "            \"turn_id\": 1\n",
        "        },\n",
        "        {\n",
        "            \"input_text\": \"Where did she live?\",\n",
        "            \"turn_id\": 2\n",
        "        },\n",
        "        [...]\n",
        "    ],\n",
        "    \"answers\": [\n",
        "        {\n",
        "            \"span_start\": 59,   % <-- $R_1$ start index\n",
        "            \"spand_end\": 93,    % <-- $R_1$ end index\n",
        "            \"span_text\": \"a little white kitten named Cotton\",   % <-- $R_1$\n",
        "            \"input_text\" \"white\",   % <-- $A_1$      \n",
        "            \"turn_id\": 1\n",
        "        },\n",
        "        [...]\n",
        "    ]\n",
        "}\n",
        "```"
      ],
      "metadata": {
        "id": "654a7388",
        "papermill": {
          "duration": 0.022116,
          "end_time": "2022-12-29T15:37:18.870719",
          "exception": false,
          "start_time": "2022-12-29T15:37:18.848603",
          "status": "completed"
        },
        "tags": []
      }
    },
    {
      "cell_type": "markdown",
      "source": [
        "### Simplifications\n",
        "\n",
        "Each dialogue also contains an additional field ```additional_answers```. For simplicity, we **ignore** this field and only consider one groundtruth answer $A$ and text rationale $R$.\n",
        "\n",
        "CoQA only contains 1.3% of unanswerable questions. For simplicity, we **ignore** those QA pairs."
      ],
      "metadata": {
        "id": "a9f17c75",
        "papermill": {
          "duration": 0.019531,
          "end_time": "2022-12-29T15:37:18.909582",
          "exception": false,
          "start_time": "2022-12-29T15:37:18.890051",
          "status": "completed"
        },
        "tags": []
      }
    },
    {
      "cell_type": "markdown",
      "source": [
        "## Dataset Download\n"
      ],
      "metadata": {
        "id": "3d2262b0",
        "papermill": {
          "duration": 0.019684,
          "end_time": "2022-12-29T15:37:18.949304",
          "exception": false,
          "start_time": "2022-12-29T15:37:18.929620",
          "status": "completed"
        },
        "tags": []
      }
    },
    {
      "cell_type": "code",
      "source": [
        "%%capture\n",
        "!pip install transformers\n",
        "!pip install allennlp_models"
      ],
      "metadata": {
        "execution": {
          "iopub.execute_input": "2022-12-29T15:37:18.991180Z",
          "iopub.status.busy": "2022-12-29T15:37:18.990656Z",
          "iopub.status.idle": "2022-12-29T15:37:50.593404Z",
          "shell.execute_reply": "2022-12-29T15:37:50.592130Z"
        },
        "id": "c54c34c8",
        "papermill": {
          "duration": 31.626934,
          "end_time": "2022-12-29T15:37:50.596087",
          "exception": false,
          "start_time": "2022-12-29T15:37:18.969153",
          "status": "completed"
        },
        "tags": []
      },
      "execution_count": 1,
      "outputs": []
    },
    {
      "cell_type": "code",
      "source": [
        "import os\n",
        "import urllib.request\n",
        "from tqdm import tqdm\n",
        "\n",
        "class DownloadProgressBar(tqdm):\n",
        "    def update_to(self, b=1, bsize=1, tsize=None):\n",
        "        if tsize is not None:\n",
        "            self.total = tsize\n",
        "        self.update(b * bsize - self.n)\n",
        "        \n",
        "def download_url(url, output_path):\n",
        "    with DownloadProgressBar(unit='B', unit_scale=True,\n",
        "                             miniters=1, desc=url.split('/')[-1]) as t:\n",
        "        urllib.request.urlretrieve(url, filename=output_path, reporthook=t.update_to)\n",
        "\n",
        "def download_data(data_path, url_path, suffix):    \n",
        "    if not os.path.exists(data_path):\n",
        "        os.makedirs(data_path)\n",
        "        \n",
        "    data_path = os.path.join(data_path, f'{suffix}.json')\n",
        "\n",
        "    if not os.path.exists(data_path):\n",
        "        print(f\"Downloading CoQA {suffix} data split... (it may take a while)\")\n",
        "        download_url(url=url_path, output_path=data_path)\n",
        "        print(\"Download completed!\")"
      ],
      "metadata": {
        "execution": {
          "iopub.execute_input": "2022-12-29T15:37:50.625671Z",
          "iopub.status.busy": "2022-12-29T15:37:50.625048Z",
          "iopub.status.idle": "2022-12-29T15:37:50.633953Z",
          "shell.execute_reply": "2022-12-29T15:37:50.633112Z"
        },
        "id": "8caad0b6",
        "papermill": {
          "duration": 0.025764,
          "end_time": "2022-12-29T15:37:50.635936",
          "exception": false,
          "start_time": "2022-12-29T15:37:50.610172",
          "status": "completed"
        },
        "tags": []
      },
      "execution_count": 2,
      "outputs": []
    },
    {
      "cell_type": "code",
      "source": [
        "# Train data\n",
        "train_url = \"https://nlp.stanford.edu/data/coqa/coqa-train-v1.0.json\"\n",
        "download_data(data_path='coqa', url_path=train_url, suffix='train')\n",
        "\n",
        "# Test data\n",
        "test_url = \"https://nlp.stanford.edu/data/coqa/coqa-dev-v1.0.json\"\n",
        "download_data(data_path='coqa', url_path=test_url, suffix='test')  # <-- Why test? See next slides for an answer!"
      ],
      "metadata": {
        "execution": {
          "iopub.execute_input": "2022-12-29T15:37:50.664157Z",
          "iopub.status.busy": "2022-12-29T15:37:50.663852Z",
          "iopub.status.idle": "2022-12-29T15:37:58.009635Z",
          "shell.execute_reply": "2022-12-29T15:37:58.007977Z"
        },
        "id": "abe04623",
        "papermill": {
          "duration": 7.362373,
          "end_time": "2022-12-29T15:37:58.011779",
          "exception": false,
          "start_time": "2022-12-29T15:37:50.649406",
          "status": "completed"
        },
        "tags": [],
        "colab": {
          "base_uri": "https://localhost:8080/"
        },
        "outputId": "12b232c6-fedd-40c1-80e4-3d0ed67589e6"
      },
      "execution_count": 3,
      "outputs": [
        {
          "output_type": "stream",
          "name": "stdout",
          "text": [
            "Downloading CoQA train data split... (it may take a while)\n"
          ]
        },
        {
          "output_type": "stream",
          "name": "stderr",
          "text": [
            "coqa-train-v1.0.json: 49.0MB [00:05, 8.83MB/s]                            \n"
          ]
        },
        {
          "output_type": "stream",
          "name": "stdout",
          "text": [
            "Download completed!\n",
            "Downloading CoQA test data split... (it may take a while)\n"
          ]
        },
        {
          "output_type": "stream",
          "name": "stderr",
          "text": [
            "coqa-dev-v1.0.json: 9.09MB [00:00, 10.2MB/s]                            "
          ]
        },
        {
          "output_type": "stream",
          "name": "stdout",
          "text": [
            "Download completed!\n"
          ]
        },
        {
          "output_type": "stream",
          "name": "stderr",
          "text": [
            "\n"
          ]
        }
      ]
    },
    {
      "cell_type": "markdown",
      "source": [
        "## [Task 1] Remove unaswerable QA pairs\n",
        "\n",
        "Write your own script to remove unaswerable QA pairs from both train and validation sets."
      ],
      "metadata": {
        "id": "da51f810",
        "papermill": {
          "duration": 0.016819,
          "end_time": "2022-12-29T15:37:58.046238",
          "exception": false,
          "start_time": "2022-12-29T15:37:58.029419",
          "status": "completed"
        },
        "tags": []
      }
    },
    {
      "cell_type": "code",
      "source": [
        "import json\n",
        "import torch\n",
        "import pandas as pd\n",
        "import numpy as np\n",
        "import sys\n",
        "import shutil"
      ],
      "metadata": {
        "execution": {
          "iopub.execute_input": "2022-12-29T15:37:58.084204Z",
          "iopub.status.busy": "2022-12-29T15:37:58.083382Z",
          "iopub.status.idle": "2022-12-29T15:37:59.763004Z",
          "shell.execute_reply": "2022-12-29T15:37:59.761961Z"
        },
        "id": "16e3f3bb",
        "papermill": {
          "duration": 1.702415,
          "end_time": "2022-12-29T15:37:59.765383",
          "exception": false,
          "start_time": "2022-12-29T15:37:58.062968",
          "status": "completed"
        },
        "tags": []
      },
      "execution_count": 4,
      "outputs": []
    },
    {
      "cell_type": "code",
      "source": [
        "def fix_random(seed: int) -> None:\n",
        "    \"\"\"Fix all the possible sources of randomness.\n",
        "\n",
        "    Args:\n",
        "        seed: the seed to use. \n",
        "    \"\"\"\n",
        "    np.random.seed(seed)\n",
        "    torch.manual_seed(seed)\n",
        "    torch.cuda.manual_seed(seed)\n",
        "    \n",
        "    torch.backends.cudnn.benchmark = False\n",
        "    torch.backends.cudnn.deterministic = True\n",
        "\n",
        "fix_random(seed=42)"
      ],
      "metadata": {
        "execution": {
          "iopub.execute_input": "2022-12-29T15:37:59.801453Z",
          "iopub.status.busy": "2022-12-29T15:37:59.800382Z",
          "iopub.status.idle": "2022-12-29T15:37:59.808429Z",
          "shell.execute_reply": "2022-12-29T15:37:59.807607Z"
        },
        "id": "0c05c303",
        "papermill": {
          "duration": 0.02768,
          "end_time": "2022-12-29T15:37:59.810372",
          "exception": false,
          "start_time": "2022-12-29T15:37:59.782692",
          "status": "completed"
        },
        "tags": []
      },
      "execution_count": 5,
      "outputs": []
    },
    {
      "cell_type": "markdown",
      "source": [
        "Now we remove the **unanswerable** QA pairs by accessing both the `train folder` and the `test folder` and checking for **answers** where `input_text` is **unknown**. Additionally, we reindexed the `turn id` such that we don't have discrepancies in the turn number."
      ],
      "metadata": {
        "id": "2ae8184d",
        "papermill": {
          "duration": 0.016773,
          "end_time": "2022-12-29T15:37:59.844013",
          "exception": false,
          "start_time": "2022-12-29T15:37:59.827240",
          "status": "completed"
        },
        "tags": []
      }
    },
    {
      "cell_type": "code",
      "source": [
        "dataset_folder = \"coqa/\"\n",
        "\n",
        "df = []\n",
        "deleted_pairs = 0\n",
        "deleted_files = 0\n",
        "for split in [\"train\", \"test\"]:\n",
        "  json_file = split + '.json'\n",
        "\n",
        "  # Read json file\n",
        "  try:\n",
        "    with open(os.path.join(dataset_folder, json_file)) as f:\n",
        "      text = json.load(f)\n",
        "      f.close()\n",
        "  except Exception as e:\n",
        "    print('Failed to process %s. Reason: %s' % (os.path.join(dataset_folder, json_file), e))\n",
        "    sys.exit(0)\n",
        "  \n",
        "  # Collect the data into a DataFrame\n",
        "  for data in text[\"data\"]:\n",
        "\n",
        "    dataframe_row = {'source'   : data['source'],\n",
        "                     'id'       : data['id'],\n",
        "                     'story'    : data['story'],\n",
        "                     'questions': [],\n",
        "                     'answers'  : [],\n",
        "                     'split'    : split,\n",
        "                     'QA_length': 0}\n",
        "\n",
        "    # Delete 'unanswerable' QA pairs\n",
        "    turn_id = 0\n",
        "    for idx in range(len(data[\"answers\"])):\n",
        "\n",
        "      if data[\"answers\"][idx][\"input_text\"] != \"unknown\":\n",
        "        turn_id += 1\n",
        "\n",
        "        # QUESTION\n",
        "        dataframe_row['questions'].append(\n",
        "            {\n",
        "            'input_text': data['questions'][idx]['input_text'],\n",
        "            'turn_id'   : turn_id\n",
        "            })\n",
        "\n",
        "        # ANSWER + RATIONALE\n",
        "        dataframe_row['answers'].append(\n",
        "            {\n",
        "            'input_text': data['answers'][idx]['input_text'],\n",
        "            'rationale' : data['answers'][idx]['span_text'],\n",
        "            'span_start': data['answers'][idx]['span_start'],\n",
        "            'span_end'  : data['answers'][idx]['span_end'],\n",
        "            'turn_id'   : turn_id\n",
        "            })\n",
        "        \n",
        "      else:\n",
        "        deleted_pairs += 1\n",
        "      \n",
        "    dataframe_row['QA_length'] = turn_id\n",
        "\n",
        "    # Delete texts without any valid QA pair\n",
        "    if turn_id > 0:\n",
        "      df.append(dataframe_row)\n",
        "    else:\n",
        "      deleted_files += 1\n",
        "\n",
        "df = pd.DataFrame(df)\n",
        "\n",
        "print(f\"Number of deleted QA pairs: {deleted_pairs}\")\n",
        "print(f\"Number of deleted files: {deleted_files}\")\n",
        "print()\n",
        "\n",
        "print(f\"Number of remaining QA pairs: {df['QA_length'].sum()}\")\n",
        "print(f\"Number of remaining files: {df.shape[0]}\")\n",
        "print(f\"Number of unique IDs: {len(df['id'].unique())}\")\n",
        "print()\n",
        "\n",
        "# All files are unique and contain at least a 'good' QA pair\n",
        "if df.shape[0] == len(df['id'].unique()) and np.sum(df['QA_length'] == 0) == 0:\n",
        "  print(\"All good for now...\")\n",
        "\n",
        "  # ...better to save it!\n",
        "  dataframe_path = os.path.join(dataset_folder, \"dataframe.pkl\")\n",
        "  df.to_pickle(dataframe_path)\n",
        "else:\n",
        "  print(\"Something strange to check!!!\")"
      ],
      "metadata": {
        "execution": {
          "iopub.execute_input": "2022-12-29T15:37:59.879732Z",
          "iopub.status.busy": "2022-12-29T15:37:59.878864Z",
          "iopub.status.idle": "2022-12-29T15:38:00.990022Z",
          "shell.execute_reply": "2022-12-29T15:38:00.988955Z"
        },
        "id": "8d44523e",
        "outputId": "ceb0ee1e-a1d8-4b87-aeb0-7c76a2f680a0",
        "papermill": {
          "duration": 1.131646,
          "end_time": "2022-12-29T15:38:00.992657",
          "exception": false,
          "start_time": "2022-12-29T15:37:59.861011",
          "status": "completed"
        },
        "tags": [],
        "colab": {
          "base_uri": "https://localhost:8080/"
        }
      },
      "execution_count": 6,
      "outputs": [
        {
          "output_type": "stream",
          "name": "stdout",
          "text": [
            "Number of deleted QA pairs: 1437\n",
            "Number of deleted files: 6\n",
            "\n",
            "Number of remaining QA pairs: 115193\n",
            "Number of remaining files: 7693\n",
            "Number of unique IDs: 7693\n",
            "\n",
            "All good for now...\n"
          ]
        }
      ]
    },
    {
      "cell_type": "code",
      "source": [
        "dataframe_path = os.path.join(dataset_folder, \"dataframe.pkl\")\n",
        "\n",
        "df = pd.read_pickle(dataframe_path)\n",
        "df.head()"
      ],
      "metadata": {
        "execution": {
          "iopub.execute_input": "2022-12-29T15:38:01.029712Z",
          "iopub.status.busy": "2022-12-29T15:38:01.029408Z",
          "iopub.status.idle": "2022-12-29T15:38:01.281614Z",
          "shell.execute_reply": "2022-12-29T15:38:01.280636Z"
        },
        "id": "105b6934",
        "outputId": "1fd26926-3c12-4060-ecf2-5d0742a68040",
        "papermill": {
          "duration": 0.273147,
          "end_time": "2022-12-29T15:38:01.283881",
          "exception": false,
          "start_time": "2022-12-29T15:38:01.010734",
          "status": "completed"
        },
        "tags": [],
        "colab": {
          "base_uri": "https://localhost:8080/",
          "height": 0
        }
      },
      "execution_count": 7,
      "outputs": [
        {
          "output_type": "execute_result",
          "data": {
            "text/plain": [
              "      source                              id  \\\n",
              "0  wikipedia  3zotghdk5ibi9cex97fepx7jetpso7   \n",
              "1        cnn  3wj1oxy92agboo5nlq4r7bndc3t8a8   \n",
              "2  gutenberg  3bdcf01ogxu7zdn9vlrbf2rqzwplyf   \n",
              "3        cnn  3ewijtffvo7wwchw6rtyaf7mfwte0p   \n",
              "4  gutenberg  3urfvvm165iantk80llvkwwbjs7uzh   \n",
              "\n",
              "                                               story  \\\n",
              "0  The Vatican Apostolic Library (), more commonl...   \n",
              "1  New York (CNN) -- More than 80 Michael Jackson...   \n",
              "2  CHAPTER VII. THE DAUGHTER OF WITHERSTEEN \\n\\n\"...   \n",
              "3  (CNN) -- The longest-running holiday special s...   \n",
              "4  CHAPTER XXIV. THE INTERRUPTED MASS \\n\\nThe mor...   \n",
              "\n",
              "                                           questions  \\\n",
              "0  [{'input_text': 'When was the Vat formally ope...   \n",
              "1  [{'input_text': 'Where was the Auction held?',...   \n",
              "2  [{'input_text': 'What did Venters call Lassite...   \n",
              "3  [{'input_text': 'Who is Rudolph's father?', 't...   \n",
              "4  [{'input_text': 'Who arrived at the church?', ...   \n",
              "\n",
              "                                             answers  split  QA_length  \n",
              "0  [{'input_text': 'It was formally established i...  train         19  \n",
              "1  [{'input_text': 'Hard Rock Cafe', 'rationale':...  train          5  \n",
              "2  [{'input_text': 'gun-man', 'rationale': 'this ...  train         20  \n",
              "3  [{'input_text': 'Donner', 'rationale': 'Santa'...  train         20  \n",
              "4  [{'input_text': 'the garrison first', 'rationa...  train         10  "
            ],
            "text/html": [
              "\n",
              "  <div id=\"df-aa7ea1a2-1a21-4f0c-83c8-3e3a70e33295\">\n",
              "    <div class=\"colab-df-container\">\n",
              "      <div>\n",
              "<style scoped>\n",
              "    .dataframe tbody tr th:only-of-type {\n",
              "        vertical-align: middle;\n",
              "    }\n",
              "\n",
              "    .dataframe tbody tr th {\n",
              "        vertical-align: top;\n",
              "    }\n",
              "\n",
              "    .dataframe thead th {\n",
              "        text-align: right;\n",
              "    }\n",
              "</style>\n",
              "<table border=\"1\" class=\"dataframe\">\n",
              "  <thead>\n",
              "    <tr style=\"text-align: right;\">\n",
              "      <th></th>\n",
              "      <th>source</th>\n",
              "      <th>id</th>\n",
              "      <th>story</th>\n",
              "      <th>questions</th>\n",
              "      <th>answers</th>\n",
              "      <th>split</th>\n",
              "      <th>QA_length</th>\n",
              "    </tr>\n",
              "  </thead>\n",
              "  <tbody>\n",
              "    <tr>\n",
              "      <th>0</th>\n",
              "      <td>wikipedia</td>\n",
              "      <td>3zotghdk5ibi9cex97fepx7jetpso7</td>\n",
              "      <td>The Vatican Apostolic Library (), more commonl...</td>\n",
              "      <td>[{'input_text': 'When was the Vat formally ope...</td>\n",
              "      <td>[{'input_text': 'It was formally established i...</td>\n",
              "      <td>train</td>\n",
              "      <td>19</td>\n",
              "    </tr>\n",
              "    <tr>\n",
              "      <th>1</th>\n",
              "      <td>cnn</td>\n",
              "      <td>3wj1oxy92agboo5nlq4r7bndc3t8a8</td>\n",
              "      <td>New York (CNN) -- More than 80 Michael Jackson...</td>\n",
              "      <td>[{'input_text': 'Where was the Auction held?',...</td>\n",
              "      <td>[{'input_text': 'Hard Rock Cafe', 'rationale':...</td>\n",
              "      <td>train</td>\n",
              "      <td>5</td>\n",
              "    </tr>\n",
              "    <tr>\n",
              "      <th>2</th>\n",
              "      <td>gutenberg</td>\n",
              "      <td>3bdcf01ogxu7zdn9vlrbf2rqzwplyf</td>\n",
              "      <td>CHAPTER VII. THE DAUGHTER OF WITHERSTEEN \\n\\n\"...</td>\n",
              "      <td>[{'input_text': 'What did Venters call Lassite...</td>\n",
              "      <td>[{'input_text': 'gun-man', 'rationale': 'this ...</td>\n",
              "      <td>train</td>\n",
              "      <td>20</td>\n",
              "    </tr>\n",
              "    <tr>\n",
              "      <th>3</th>\n",
              "      <td>cnn</td>\n",
              "      <td>3ewijtffvo7wwchw6rtyaf7mfwte0p</td>\n",
              "      <td>(CNN) -- The longest-running holiday special s...</td>\n",
              "      <td>[{'input_text': 'Who is Rudolph's father?', 't...</td>\n",
              "      <td>[{'input_text': 'Donner', 'rationale': 'Santa'...</td>\n",
              "      <td>train</td>\n",
              "      <td>20</td>\n",
              "    </tr>\n",
              "    <tr>\n",
              "      <th>4</th>\n",
              "      <td>gutenberg</td>\n",
              "      <td>3urfvvm165iantk80llvkwwbjs7uzh</td>\n",
              "      <td>CHAPTER XXIV. THE INTERRUPTED MASS \\n\\nThe mor...</td>\n",
              "      <td>[{'input_text': 'Who arrived at the church?', ...</td>\n",
              "      <td>[{'input_text': 'the garrison first', 'rationa...</td>\n",
              "      <td>train</td>\n",
              "      <td>10</td>\n",
              "    </tr>\n",
              "  </tbody>\n",
              "</table>\n",
              "</div>\n",
              "      <button class=\"colab-df-convert\" onclick=\"convertToInteractive('df-aa7ea1a2-1a21-4f0c-83c8-3e3a70e33295')\"\n",
              "              title=\"Convert this dataframe to an interactive table.\"\n",
              "              style=\"display:none;\">\n",
              "        \n",
              "  <svg xmlns=\"http://www.w3.org/2000/svg\" height=\"24px\"viewBox=\"0 0 24 24\"\n",
              "       width=\"24px\">\n",
              "    <path d=\"M0 0h24v24H0V0z\" fill=\"none\"/>\n",
              "    <path d=\"M18.56 5.44l.94 2.06.94-2.06 2.06-.94-2.06-.94-.94-2.06-.94 2.06-2.06.94zm-11 1L8.5 8.5l.94-2.06 2.06-.94-2.06-.94L8.5 2.5l-.94 2.06-2.06.94zm10 10l.94 2.06.94-2.06 2.06-.94-2.06-.94-.94-2.06-.94 2.06-2.06.94z\"/><path d=\"M17.41 7.96l-1.37-1.37c-.4-.4-.92-.59-1.43-.59-.52 0-1.04.2-1.43.59L10.3 9.45l-7.72 7.72c-.78.78-.78 2.05 0 2.83L4 21.41c.39.39.9.59 1.41.59.51 0 1.02-.2 1.41-.59l7.78-7.78 2.81-2.81c.8-.78.8-2.07 0-2.86zM5.41 20L4 18.59l7.72-7.72 1.47 1.35L5.41 20z\"/>\n",
              "  </svg>\n",
              "      </button>\n",
              "      \n",
              "  <style>\n",
              "    .colab-df-container {\n",
              "      display:flex;\n",
              "      flex-wrap:wrap;\n",
              "      gap: 12px;\n",
              "    }\n",
              "\n",
              "    .colab-df-convert {\n",
              "      background-color: #E8F0FE;\n",
              "      border: none;\n",
              "      border-radius: 50%;\n",
              "      cursor: pointer;\n",
              "      display: none;\n",
              "      fill: #1967D2;\n",
              "      height: 32px;\n",
              "      padding: 0 0 0 0;\n",
              "      width: 32px;\n",
              "    }\n",
              "\n",
              "    .colab-df-convert:hover {\n",
              "      background-color: #E2EBFA;\n",
              "      box-shadow: 0px 1px 2px rgba(60, 64, 67, 0.3), 0px 1px 3px 1px rgba(60, 64, 67, 0.15);\n",
              "      fill: #174EA6;\n",
              "    }\n",
              "\n",
              "    [theme=dark] .colab-df-convert {\n",
              "      background-color: #3B4455;\n",
              "      fill: #D2E3FC;\n",
              "    }\n",
              "\n",
              "    [theme=dark] .colab-df-convert:hover {\n",
              "      background-color: #434B5C;\n",
              "      box-shadow: 0px 1px 3px 1px rgba(0, 0, 0, 0.15);\n",
              "      filter: drop-shadow(0px 1px 2px rgba(0, 0, 0, 0.3));\n",
              "      fill: #FFFFFF;\n",
              "    }\n",
              "  </style>\n",
              "\n",
              "      <script>\n",
              "        const buttonEl =\n",
              "          document.querySelector('#df-aa7ea1a2-1a21-4f0c-83c8-3e3a70e33295 button.colab-df-convert');\n",
              "        buttonEl.style.display =\n",
              "          google.colab.kernel.accessAllowed ? 'block' : 'none';\n",
              "\n",
              "        async function convertToInteractive(key) {\n",
              "          const element = document.querySelector('#df-aa7ea1a2-1a21-4f0c-83c8-3e3a70e33295');\n",
              "          const dataTable =\n",
              "            await google.colab.kernel.invokeFunction('convertToInteractive',\n",
              "                                                     [key], {});\n",
              "          if (!dataTable) return;\n",
              "\n",
              "          const docLinkHtml = 'Like what you see? Visit the ' +\n",
              "            '<a target=\"_blank\" href=https://colab.research.google.com/notebooks/data_table.ipynb>data table notebook</a>'\n",
              "            + ' to learn more about interactive tables.';\n",
              "          element.innerHTML = '';\n",
              "          dataTable['output_type'] = 'display_data';\n",
              "          await google.colab.output.renderOutput(dataTable, element);\n",
              "          const docLink = document.createElement('div');\n",
              "          docLink.innerHTML = docLinkHtml;\n",
              "          element.appendChild(docLink);\n",
              "        }\n",
              "      </script>\n",
              "    </div>\n",
              "  </div>\n",
              "  "
            ]
          },
          "metadata": {},
          "execution_count": 7
        }
      ]
    },
    {
      "cell_type": "markdown",
      "source": [
        "#### Data Inspection\n",
        "\n",
        "Spend some time in checking accurately the dataset format and how to retrieve the tasks' inputs and outputs!"
      ],
      "metadata": {
        "id": "9604ce53",
        "papermill": {
          "duration": 0.016983,
          "end_time": "2022-12-29T15:38:01.320456",
          "exception": false,
          "start_time": "2022-12-29T15:38:01.303473",
          "status": "completed"
        },
        "tags": []
      }
    },
    {
      "cell_type": "code",
      "source": [
        "print(f\"Number of remaining files: {df.shape[0]}\")\n",
        "print(f\"How many are the unique stories? {len(df['story'].unique())}\")\n",
        "print()\n",
        "\n",
        "print(\"How should we manage these files?\")"
      ],
      "metadata": {
        "execution": {
          "iopub.execute_input": "2022-12-29T15:38:01.356083Z",
          "iopub.status.busy": "2022-12-29T15:38:01.355777Z",
          "iopub.status.idle": "2022-12-29T15:38:01.389175Z",
          "shell.execute_reply": "2022-12-29T15:38:01.387963Z"
        },
        "id": "596ae111",
        "outputId": "4223817e-2285-408a-b112-398b436d63d8",
        "papermill": {
          "duration": 0.053638,
          "end_time": "2022-12-29T15:38:01.391212",
          "exception": false,
          "start_time": "2022-12-29T15:38:01.337574",
          "status": "completed"
        },
        "tags": [],
        "colab": {
          "base_uri": "https://localhost:8080/"
        }
      },
      "execution_count": 8,
      "outputs": [
        {
          "output_type": "stream",
          "name": "stdout",
          "text": [
            "Number of remaining files: 7693\n",
            "How many are the unique stories? 7070\n",
            "\n",
            "How should we manage these files?\n"
          ]
        }
      ]
    },
    {
      "cell_type": "markdown",
      "source": [
        "Quick check of these duplicated texts...\n",
        "\n",
        "- Run the following cell and simply look at some of them in the 'duplicates' folder!\n",
        "\n",
        "-> They contain different Questions and Answers, so we should have no problems in keeping all of them..."
      ],
      "metadata": {
        "id": "0fef773e",
        "papermill": {
          "duration": 0.017247,
          "end_time": "2022-12-29T15:38:01.425861",
          "exception": false,
          "start_time": "2022-12-29T15:38:01.408614",
          "status": "completed"
        },
        "tags": []
      }
    },
    {
      "cell_type": "code",
      "source": [
        "# How many files do you want to visualize?\n",
        "file_limit = 3\n",
        "\n",
        "if 'duplicates' in os.listdir():\n",
        "  shutil.rmtree('duplicates')\n",
        "!mkdir 'duplicates'\n",
        "\n",
        "count = {}\n",
        "\n",
        "for story in df['story']:\n",
        "  if story not in count.keys():\n",
        "    count[story] = 1\n",
        "  else:\n",
        "    count[story] += 1\n",
        "\n",
        "for story in df['story']:\n",
        "  if file_limit == 0:\n",
        "    break\n",
        "\n",
        "  if story in count.keys():\n",
        "    if count[story] > 1:\n",
        "      file_limit -= 1\n",
        "      indices = np.where(df['story'] == story)[0]\n",
        "\n",
        "      f = open(\"duplicates/\"+str(indices[0])+'_'+str(len(indices))+\".txt\", \"w\")\n",
        "\n",
        "      f.write(story)\n",
        "      f.write('\\n\\n\\n')\n",
        "      for idx in indices:\n",
        "        for pair in range(df.loc[idx, 'QA_length']):\n",
        "          f.write(f\"Q: {df.loc[idx, 'questions'][pair]['input_text']}\\n\")\n",
        "          f.write(f\"A: {df.loc[idx, 'answers'][pair]['input_text']}\\n\")\n",
        "        f.write('\\n')\n",
        "\n",
        "      f.close()"
      ],
      "metadata": {
        "execution": {
          "iopub.execute_input": "2022-12-29T15:38:01.505868Z",
          "iopub.status.busy": "2022-12-29T15:38:01.505603Z",
          "iopub.status.idle": "2022-12-29T15:38:02.502077Z",
          "shell.execute_reply": "2022-12-29T15:38:02.500838Z"
        },
        "id": "310b499d",
        "papermill": {
          "duration": 1.018062,
          "end_time": "2022-12-29T15:38:02.504595",
          "exception": false,
          "start_time": "2022-12-29T15:38:01.486533",
          "status": "completed"
        },
        "tags": []
      },
      "execution_count": 9,
      "outputs": []
    },
    {
      "cell_type": "code",
      "source": [
        "print(f\"Dictionary keys: {list(df.keys())}\")"
      ],
      "metadata": {
        "execution": {
          "iopub.execute_input": "2022-12-29T15:38:02.541971Z",
          "iopub.status.busy": "2022-12-29T15:38:02.541078Z",
          "iopub.status.idle": "2022-12-29T15:38:02.547259Z",
          "shell.execute_reply": "2022-12-29T15:38:02.546214Z"
        },
        "id": "2d610af5",
        "outputId": "cb819118-9f80-420a-ca49-6a7d8137db75",
        "papermill": {
          "duration": 0.026384,
          "end_time": "2022-12-29T15:38:02.549019",
          "exception": false,
          "start_time": "2022-12-29T15:38:02.522635",
          "status": "completed"
        },
        "tags": [],
        "colab": {
          "base_uri": "https://localhost:8080/"
        }
      },
      "execution_count": 10,
      "outputs": [
        {
          "output_type": "stream",
          "name": "stdout",
          "text": [
            "Dictionary keys: ['source', 'id', 'story', 'questions', 'answers', 'split', 'QA_length']\n"
          ]
        }
      ]
    },
    {
      "cell_type": "code",
      "source": [
        "print(df.loc[0, 'story'])"
      ],
      "metadata": {
        "execution": {
          "iopub.execute_input": "2022-12-29T15:38:02.585649Z",
          "iopub.status.busy": "2022-12-29T15:38:02.585361Z",
          "iopub.status.idle": "2022-12-29T15:38:02.590351Z",
          "shell.execute_reply": "2022-12-29T15:38:02.589357Z"
        },
        "id": "00e72685",
        "outputId": "e5c65921-06bf-434c-c5c9-4aab44830d37",
        "papermill": {
          "duration": 0.026019,
          "end_time": "2022-12-29T15:38:02.592809",
          "exception": false,
          "start_time": "2022-12-29T15:38:02.566790",
          "status": "completed"
        },
        "tags": [],
        "colab": {
          "base_uri": "https://localhost:8080/"
        }
      },
      "execution_count": 11,
      "outputs": [
        {
          "output_type": "stream",
          "name": "stdout",
          "text": [
            "The Vatican Apostolic Library (), more commonly called the Vatican Library or simply the Vat, is the library of the Holy See, located in Vatican City. Formally established in 1475, although it is much older, it is one of the oldest libraries in the world and contains one of the most significant collections of historical texts. It has 75,000 codices from throughout history, as well as 1.1 million printed books, which include some 8,500 incunabula. \n",
            "\n",
            "The Vatican Library is a research library for history, law, philosophy, science and theology. The Vatican Library is open to anyone who can document their qualifications and research needs. Photocopies for private study of pages from books published between 1801 and 1990 can be requested in person or by mail. \n",
            "\n",
            "In March 2014, the Vatican Library began an initial four-year project of digitising its collection of manuscripts, to be made available online. \n",
            "\n",
            "The Vatican Secret Archives were separated from the library at the beginning of the 17th century; they contain another 150,000 items. \n",
            "\n",
            "Scholars have traditionally divided the history of the library into five periods, Pre-Lateran, Lateran, Avignon, Pre-Vatican and Vatican. \n",
            "\n",
            "The Pre-Lateran period, comprising the initial days of the library, dated from the earliest days of the Church. Only a handful of volumes survive from this period, though some are very significant.\n"
          ]
        }
      ]
    },
    {
      "cell_type": "code",
      "source": [
        "print(f\"Questions dictionary keys:  {list(df.loc[0, 'questions'][0].keys())}\")\n",
        "print(f\"  Answers dictionary keys:  {list(df.loc[0, 'answers'][0].keys())}\")"
      ],
      "metadata": {
        "execution": {
          "iopub.execute_input": "2022-12-29T15:38:02.629041Z",
          "iopub.status.busy": "2022-12-29T15:38:02.628737Z",
          "iopub.status.idle": "2022-12-29T15:38:02.633708Z",
          "shell.execute_reply": "2022-12-29T15:38:02.632809Z"
        },
        "id": "454eb22d",
        "outputId": "136dd63e-703a-4b48-9971-6336d864d6bb",
        "papermill": {
          "duration": 0.025516,
          "end_time": "2022-12-29T15:38:02.636019",
          "exception": false,
          "start_time": "2022-12-29T15:38:02.610503",
          "status": "completed"
        },
        "tags": [],
        "colab": {
          "base_uri": "https://localhost:8080/"
        }
      },
      "execution_count": 12,
      "outputs": [
        {
          "output_type": "stream",
          "name": "stdout",
          "text": [
            "Questions dictionary keys:  ['input_text', 'turn_id']\n",
            "  Answers dictionary keys:  ['input_text', 'rationale', 'span_start', 'span_end', 'turn_id']\n"
          ]
        }
      ]
    },
    {
      "cell_type": "code",
      "source": [
        "print(\"EXAMPLE OF A QUESTION/ANSWER PAIR:\\n\")\n",
        "print(\"Question ->\", end=\" \")\n",
        "print(df.loc[0, 'questions'][0])\n",
        "\n",
        "print(\"  Answer ->\", end=\" \")\n",
        "print(df.loc[0, 'answers'][0])"
      ],
      "metadata": {
        "execution": {
          "iopub.execute_input": "2022-12-29T15:38:02.672472Z",
          "iopub.status.busy": "2022-12-29T15:38:02.671802Z",
          "iopub.status.idle": "2022-12-29T15:38:02.677532Z",
          "shell.execute_reply": "2022-12-29T15:38:02.676642Z"
        },
        "id": "92bd7b69",
        "outputId": "38d91385-8dd1-4293-e207-c87b17b2426d",
        "papermill": {
          "duration": 0.02622,
          "end_time": "2022-12-29T15:38:02.679826",
          "exception": false,
          "start_time": "2022-12-29T15:38:02.653606",
          "status": "completed"
        },
        "tags": [],
        "colab": {
          "base_uri": "https://localhost:8080/"
        }
      },
      "execution_count": 13,
      "outputs": [
        {
          "output_type": "stream",
          "name": "stdout",
          "text": [
            "EXAMPLE OF A QUESTION/ANSWER PAIR:\n",
            "\n",
            "Question -> {'input_text': 'When was the Vat formally opened?', 'turn_id': 1}\n",
            "  Answer -> {'input_text': 'It was formally established in 1475', 'rationale': 'Formally established in 1475', 'span_start': 151, 'span_end': 179, 'turn_id': 1}\n"
          ]
        }
      ]
    },
    {
      "cell_type": "code",
      "source": [
        "print(\"Conversation Structure:\\n\")\n",
        "for idx in range(df.loc[0, 'QA_length']):\n",
        "  question = df.loc[0, 'questions'][idx]\n",
        "  answer = df.loc[0, 'answers'][idx]\n",
        "\n",
        "  print(f\"Turn {idx+1}\")\n",
        "  print(f\"R: {answer['rationale']}\")\n",
        "  print(f\"Q: {question['input_text']}\")\n",
        "  print(f\"A: {answer['input_text']}\")\n",
        "  print()"
      ],
      "metadata": {
        "execution": {
          "iopub.execute_input": "2022-12-29T15:38:02.715814Z",
          "iopub.status.busy": "2022-12-29T15:38:02.715563Z",
          "iopub.status.idle": "2022-12-29T15:38:02.722370Z",
          "shell.execute_reply": "2022-12-29T15:38:02.721499Z"
        },
        "id": "c7f3e3d7",
        "outputId": "3f62f43d-3759-4d44-9d87-85be036f8131",
        "papermill": {
          "duration": 0.028275,
          "end_time": "2022-12-29T15:38:02.725590",
          "exception": false,
          "start_time": "2022-12-29T15:38:02.697315",
          "status": "completed"
        },
        "tags": [],
        "colab": {
          "base_uri": "https://localhost:8080/"
        }
      },
      "execution_count": 14,
      "outputs": [
        {
          "output_type": "stream",
          "name": "stdout",
          "text": [
            "Conversation Structure:\n",
            "\n",
            "Turn 1\n",
            "R: Formally established in 1475\n",
            "Q: When was the Vat formally opened?\n",
            "A: It was formally established in 1475\n",
            "\n",
            "Turn 2\n",
            "R: he Vatican Library is a research library\n",
            "Q: what is the library for?\n",
            "A: research\n",
            "\n",
            "Turn 3\n",
            "R: Vatican Library is a research library for history, law\n",
            "Q: for what subjects?\n",
            "A: history, and law\n",
            "\n",
            "Turn 4\n",
            "R: Vatican Library is a research library for history, law, philosophy, science and theology\n",
            "Q: and?\n",
            "A: philosophy, science and theology\n",
            "\n",
            "Turn 5\n",
            "R: March 2014, the Vatican Library began an initial four-year project of digitising its collection of manuscripts\n",
            "Q: what was started in 2014?\n",
            "A: a  project\n",
            "\n",
            "Turn 6\n",
            "R: Scholars have traditionally divided the history of the library into five period\n",
            "Q: how do scholars divide the library?\n",
            "A: into periods\n",
            "\n",
            "Turn 7\n",
            "R: Scholars have traditionally divided the history of the library into five periods\n",
            "Q: how many?\n",
            "A: five\n",
            "\n",
            "Turn 8\n",
            "R: Vatican Apostolic Library (), more commonly called the Vatican Library or simply the Vat, \n",
            "Q: what is the official name of the Vat?\n",
            "A: The Vatican Apostolic Library\n",
            "\n",
            "Turn 9\n",
            "R: is the library of the Holy See, located in Vatican City.\n",
            "Q: where is it?\n",
            "A: in Vatican City\n",
            "\n",
            "Turn 10\n",
            "R:  It has 75,000 codices from throughout history, as well as 1.1 million printed books\n",
            "Q: how many printed books does it contain?\n",
            "A: 1.1 million\n",
            "\n",
            "Turn 11\n",
            "R: atican Secret Archives were separated from the library at the beginning of the 17th century;\n",
            "Q: when were the Secret Archives moved from the rest of the library?\n",
            "A: at the beginning of the 17th century;\n",
            "\n",
            "Turn 12\n",
            "R:  Vatican Secret Archives were separated from the library at the beginning of the 17th century; they contain another 150,000 items. \n",
            "Q: how many items are in this secret collection?\n",
            "A: 150,000\n",
            "\n",
            "Turn 13\n",
            "R:  The Vatican Library is open to anyone who can document their qualifications and research needs. \n",
            "Q: Can anyone use this library?\n",
            "A: anyone who can document their qualifications and research needs.\n",
            "\n",
            "Turn 14\n",
            "R: Photocopies for private study of pages from books published between 1801 and 1990 can be requested in person or by mail. \n",
            "Q: what must be requested in person or by mail?\n",
            "A: Photocopies\n",
            "\n",
            "Turn 15\n",
            "R: hotocopies for private study of pages from books published between 1801 and 1990\n",
            "Q: of what books?\n",
            "A: only books published between 1801 and 1990\n",
            "\n",
            "Turn 16\n",
            "R: simply the Vat, is the library of the Holy See,\n",
            "Q: What is the Vat the library of?\n",
            "A: the Holy See\n",
            "\n",
            "Turn 17\n",
            "R: Pre-Lateran period, comprising the initial days of the library, dated from the earliest days of the Church. Only a handful of volumes survive from this period, though some are very significant\n",
            "Q: How many books survived the Pre Lateran period?\n",
            "A: a handful of volumes\n",
            "\n",
            "Turn 18\n",
            "R: Vatican Library began an initial four-year project of digitising its collection of manuscripts, \n",
            "Q: what is the point of the project started in 2014?\n",
            "A: digitising manuscripts\n",
            "\n",
            "Turn 19\n",
            "R: manuscripts, to be made available online. \n",
            "Q: what will this allow?\n",
            "A: them to be viewed online.\n",
            "\n"
          ]
        }
      ]
    },
    {
      "cell_type": "markdown",
      "source": [
        "From the conversation above we can think to retrieve the inputs (Q, P) or (Q, P, H) directly from the cells ['story', 'questions' and 'answers'] of the DataFrame."
      ],
      "metadata": {
        "id": "507d69ac",
        "papermill": {
          "duration": 0.017655,
          "end_time": "2022-12-29T15:38:02.760800",
          "exception": false,
          "start_time": "2022-12-29T15:38:02.743145",
          "status": "completed"
        },
        "tags": []
      }
    },
    {
      "cell_type": "code",
      "source": [
        "print(\"Distribution of splits: \")\n",
        "print(df['split'].value_counts())\n",
        "print()"
      ],
      "metadata": {
        "execution": {
          "iopub.execute_input": "2022-12-29T15:38:02.798534Z",
          "iopub.status.busy": "2022-12-29T15:38:02.796990Z",
          "iopub.status.idle": "2022-12-29T15:38:02.804645Z",
          "shell.execute_reply": "2022-12-29T15:38:02.803451Z"
        },
        "id": "3228f1b6",
        "outputId": "93330a30-5afa-4ce1-9220-4dd7771b257f",
        "papermill": {
          "duration": 0.028472,
          "end_time": "2022-12-29T15:38:02.807004",
          "exception": false,
          "start_time": "2022-12-29T15:38:02.778532",
          "status": "completed"
        },
        "tags": [],
        "colab": {
          "base_uri": "https://localhost:8080/"
        }
      },
      "execution_count": 15,
      "outputs": [
        {
          "output_type": "stream",
          "name": "stdout",
          "text": [
            "Distribution of splits: \n",
            "train    7193\n",
            "test      500\n",
            "Name: split, dtype: int64\n",
            "\n"
          ]
        }
      ]
    },
    {
      "cell_type": "code",
      "source": [
        "import matplotlib.pyplot as plt\n",
        "%matplotlib inline\n",
        "\n",
        "plt.figure(figsize=(15,5))\n",
        "plt.subplot(1,2,1)\n",
        "train_indices = (df['split'] == 'train')\n",
        "plt.hist(df.loc[train_indices, 'QA_length'], bins=range(1, 36))\n",
        "plt.xlim((1, 35))\n",
        "plt.title(\"Conversation length - Train\")\n",
        "\n",
        "plt.subplot(1,2,2)\n",
        "test_indices = (df['split'] == 'test')\n",
        "plt.hist(df.loc[test_indices, 'QA_length'], bins=range(1, 36))\n",
        "plt.xlim((1, 35))\n",
        "plt.title(\"Conversation length - Test\")\n",
        "plt.show()"
      ],
      "metadata": {
        "execution": {
          "iopub.execute_input": "2022-12-29T15:38:02.844381Z",
          "iopub.status.busy": "2022-12-29T15:38:02.844114Z",
          "iopub.status.idle": "2022-12-29T15:38:03.262628Z",
          "shell.execute_reply": "2022-12-29T15:38:03.261620Z"
        },
        "id": "125a8a25",
        "outputId": "41d918a5-c8a4-4f0c-bbab-2cfc8287d203",
        "papermill": {
          "duration": 0.43943,
          "end_time": "2022-12-29T15:38:03.264792",
          "exception": false,
          "start_time": "2022-12-29T15:38:02.825362",
          "status": "completed"
        },
        "tags": [],
        "colab": {
          "base_uri": "https://localhost:8080/",
          "height": 0
        }
      },
      "execution_count": 16,
      "outputs": [
        {
          "output_type": "display_data",
          "data": {
            "text/plain": [
              "<Figure size 1080x360 with 2 Axes>"
            ],
            "image/png": "[encoded data removed]"
          },
          "metadata": {
            "needs_background": "light"
          }
        }
      ]
    },
    {
      "cell_type": "markdown",
      "source": [
        "## [Task 2] Train, Validation and Test splits\n",
        "\n",
        "CoQA only provides a train and validation set since the test set is hidden for evaluation purposes.\n",
        "\n",
        "We'll consider the provided validation set as a test set. <br>\n",
        "$\\rightarrow$ Write your own script to:\n",
        "* Split the train data in train and validation splits (80% train and 20% val)\n",
        "* Perform splits such that a dialogue appears in one split only! (i.e., split at dialogue level)\n",
        "* Perform splitting using the following seed for reproducibility: 42\n",
        "\n",
        "#### Reproducibility Memo\n",
        "\n",
        "Check back tutorial 2 on how to fix a specific random seed for reproducibility!"
      ],
      "metadata": {
        "id": "ff05ecad",
        "papermill": {
          "duration": 0.017684,
          "end_time": "2022-12-29T15:38:03.349026",
          "exception": false,
          "start_time": "2022-12-29T15:38:03.331342",
          "status": "completed"
        },
        "tags": []
      }
    },
    {
      "cell_type": "code",
      "source": [
        "from sklearn.model_selection import train_test_split\n",
        "from sklearn.utils import shuffle"
      ],
      "metadata": {
        "execution": {
          "iopub.execute_input": "2022-12-29T15:38:03.386707Z",
          "iopub.status.busy": "2022-12-29T15:38:03.386425Z",
          "iopub.status.idle": "2022-12-29T15:38:04.127058Z",
          "shell.execute_reply": "2022-12-29T15:38:04.126126Z"
        },
        "id": "fb951288",
        "papermill": {
          "duration": 0.762446,
          "end_time": "2022-12-29T15:38:04.129695",
          "exception": false,
          "start_time": "2022-12-29T15:38:03.367249",
          "status": "completed"
        },
        "tags": []
      },
      "execution_count": 17,
      "outputs": []
    },
    {
      "cell_type": "markdown",
      "source": [
        "In the following cell we proceeded to split the `DataFrame` in 3 parts: \n",
        "\n",
        "*   Training Set\n",
        "*   Validation Set\n",
        "*   Test Set\n",
        "\n"
      ],
      "metadata": {
        "id": "43bed789",
        "papermill": {
          "duration": 0.018604,
          "end_time": "2022-12-29T15:38:04.167624",
          "exception": false,
          "start_time": "2022-12-29T15:38:04.149020",
          "status": "completed"
        },
        "tags": []
      }
    },
    {
      "cell_type": "code",
      "source": [
        "def split_data(df, seed):\n",
        "  \"\"\"\n",
        "  Inputs:\n",
        "    - DataFrame\n",
        "    - seed\n",
        "\n",
        "  Returns:\n",
        "    - Train set : DataFrame\n",
        "    - Val set   : DataFrame\n",
        "    - Test set  : DataFrame\n",
        "  \"\"\"\n",
        "  df_train, df_val = train_test_split(df[df['split'] == 'train'], train_size=0.8, random_state=seed)\n",
        "  df_val['split'] = 'val'\n",
        "  df_test = df[df['split'] == 'test']\n",
        "\n",
        "  df_train.reset_index(drop=True, inplace=True)\n",
        "  df_val.reset_index(drop=True, inplace=True)\n",
        "  df_test.reset_index(drop=True, inplace=True)\n",
        "\n",
        "  return df_train, df_val, df_test\n",
        "\n",
        "df_train, df_val, df_test = split_data(df, 42)\n",
        "print(f\"Train files: {df_train.shape[0]}  ({(100 *df_train.shape[0] / df.shape[0]):.1f}%)\")\n",
        "print(f\"  Val files: {df_val.shape[0]}  ({(100 *df_val.shape[0] / df.shape[0]):.1f}%)\")\n",
        "print(f\" Test files:  {df_test.shape[0]}   ({(100 *df_test.shape[0] / df.shape[0]):.1f}%)\")"
      ],
      "metadata": {
        "execution": {
          "iopub.execute_input": "2022-12-29T15:38:04.206432Z",
          "iopub.status.busy": "2022-12-29T15:38:04.205593Z",
          "iopub.status.idle": "2022-12-29T15:38:04.241017Z",
          "shell.execute_reply": "2022-12-29T15:38:04.239697Z"
        },
        "id": "8011954a",
        "outputId": "22d4d056-11a3-448b-bbde-54186711447d",
        "papermill": {
          "duration": 0.056987,
          "end_time": "2022-12-29T15:38:04.243337",
          "exception": false,
          "start_time": "2022-12-29T15:38:04.186350",
          "status": "completed"
        },
        "tags": [],
        "colab": {
          "base_uri": "https://localhost:8080/"
        }
      },
      "execution_count": 18,
      "outputs": [
        {
          "output_type": "stream",
          "name": "stdout",
          "text": [
            "Train files: 5754  (74.8%)\n",
            "  Val files: 1439  (18.7%)\n",
            " Test files:  500   (6.5%)\n"
          ]
        }
      ]
    },
    {
      "cell_type": "markdown",
      "source": [
        "Now we preprocessed the data by extracting only the useful information from the `DataFrames` and adding the **history (H)**, to it. \n",
        "\n",
        "The **history** can be set to have a fixed length (e.g. hist_length = 3 will take only the 3 previous **QA pairs** as history)\n",
        "\n",
        "$H = Q_{n-3} + A_{n-3} + Q_{n-2} + A_{n-2} + Q_{n-1} + A_{n-1}$\n",
        "\n",
        "where `n` indicates the actual turn ($Q_{n}$ is the actual Question).\n",
        "\n"
      ],
      "metadata": {
        "id": "fd0a3100",
        "papermill": {
          "duration": 0.018508,
          "end_time": "2022-12-29T15:38:04.281964",
          "exception": false,
          "start_time": "2022-12-29T15:38:04.263456",
          "status": "completed"
        },
        "tags": []
      }
    },
    {
      "cell_type": "code",
      "source": [
        "def preprocess_data(df, hist_length=3):\n",
        "  \"\"\"\n",
        "  Inputs:\n",
        "    - DataFrame w/o History\n",
        "    - Length of the History\n",
        "\n",
        "  Returns:\n",
        "    - Preprocessed DataFrame with History\n",
        "  \"\"\"\n",
        "  processed_data = []\n",
        "\n",
        "  for _, row in df.iterrows():\n",
        "    qa_pairs = list(zip(row['questions'], row['answers']))\n",
        "    for idx, (question, answer) in enumerate(qa_pairs):\n",
        "      \n",
        "      # Create history\n",
        "      history = ''.join([qa_pairs[i][0]['input_text'] + ' ' + qa_pairs[i][1]['input_text'] + '. ' for i in range(max(0, idx-hist_length), idx)])\n",
        "\n",
        "      data = {\n",
        "              'source'    : row['source'],\n",
        "              'passage'   : row['story'],\n",
        "              'question'  : question['input_text'],\n",
        "              'answer'    : answer['input_text'],\n",
        "              'rationale' : answer['rationale'],\n",
        "              'span_start': answer['span_start'],\n",
        "              'span_end'  : answer['span_end'],\n",
        "              'history'   : history\n",
        "              }\n",
        "    \n",
        "      processed_data.append(data)\n",
        "\n",
        "  processed_data = shuffle(pd.DataFrame(processed_data), random_state=42)\n",
        "  processed_data.reset_index(drop=True, inplace=True)\n",
        "  return processed_data\n",
        "\n",
        "train_data = preprocess_data(df_train, hist_length=3)\n",
        "val_data   = preprocess_data(df_val,   hist_length=3)\n",
        "test_data  = preprocess_data(df_test,  hist_length=3)"
      ],
      "metadata": {
        "execution": {
          "iopub.execute_input": "2022-12-29T15:38:04.320857Z",
          "iopub.status.busy": "2022-12-29T15:38:04.320075Z",
          "iopub.status.idle": "2022-12-29T15:38:06.505205Z",
          "shell.execute_reply": "2022-12-29T15:38:06.504243Z"
        },
        "id": "0c2510f6",
        "papermill": {
          "duration": 2.206877,
          "end_time": "2022-12-29T15:38:06.507575",
          "exception": false,
          "start_time": "2022-12-29T15:38:04.300698",
          "status": "completed"
        },
        "tags": []
      },
      "execution_count": 19,
      "outputs": []
    },
    {
      "cell_type": "code",
      "source": [
        "train_data.head()"
      ],
      "metadata": {
        "execution": {
          "iopub.execute_input": "2022-12-29T15:38:06.546686Z",
          "iopub.status.busy": "2022-12-29T15:38:06.545154Z",
          "iopub.status.idle": "2022-12-29T15:38:06.558863Z",
          "shell.execute_reply": "2022-12-29T15:38:06.557868Z"
        },
        "id": "bd94aa3e",
        "outputId": "4fe0e933-ac37-4fc5-a051-dc402695a1a1",
        "papermill": {
          "duration": 0.035031,
          "end_time": "2022-12-29T15:38:06.561102",
          "exception": false,
          "start_time": "2022-12-29T15:38:06.526071",
          "status": "completed"
        },
        "tags": [],
        "colab": {
          "base_uri": "https://localhost:8080/",
          "height": 0
        }
      },
      "execution_count": 20,
      "outputs": [
        {
          "output_type": "execute_result",
          "data": {
            "text/plain": [
              "      source                                            passage  \\\n",
              "0     mctest  Mary loved walking through the woods with her ...   \n",
              "1        cnn  (CNN) -- Tragically, another celebrity has die...   \n",
              "2  wikipedia  Vermont () is a state in the New England regio...   \n",
              "3       race  When Charles Stratton was five, he stopped gro...   \n",
              "4     mctest  The turtle and the fox were best friends. One ...   \n",
              "\n",
              "                                            question  \\\n",
              "0                       Where did they like to hide?   \n",
              "1  which country singer's death is in the headlines?   \n",
              "2  Which force represented the New Hampshire colo...   \n",
              "3                                 Who did Tom marry?   \n",
              "4               What did Turtle want to do with him?   \n",
              "\n",
              "                         answer  \\\n",
              "0  Behind the raspberry bushes.   \n",
              "1                Mindy McCready   \n",
              "2   Green Mountain Boys militia   \n",
              "3                Lavinia Warren   \n",
              "4                    go fishing   \n",
              "\n",
              "                                           rationale  span_start  span_end  \\\n",
              "0  their secret hiding place behind the raspberry...         445       498   \n",
              "1             Country singer Mindy McCready's death          136       174   \n",
              "2  Settlers who held land titles granted by New Y...        1309      1495   \n",
              "3  One of the little people was Lavinia Warren, a...         965      1075   \n",
              "4                            he wanted to go fishing         636       659   \n",
              "\n",
              "                                             history  \n",
              "0  What did they look for together? Blueberries. ...  \n",
              "1  what was Wyatt D.'s cause of death? drug-relat...  \n",
              "2  During what historic event? Seven Years' War. ...  \n",
              "3  What was Charles Stratton's nickname? General ...  \n",
              "4                 Who was Turtle friends with? fox.   "
            ],
            "text/html": [
              "\n",
              "  <div id=\"df-ab95bbc9-da97-4e51-99f8-7a9f3385ce2d\">\n",
              "    <div class=\"colab-df-container\">\n",
              "      <div>\n",
              "<style scoped>\n",
              "    .dataframe tbody tr th:only-of-type {\n",
              "        vertical-align: middle;\n",
              "    }\n",
              "\n",
              "    .dataframe tbody tr th {\n",
              "        vertical-align: top;\n",
              "    }\n",
              "\n",
              "    .dataframe thead th {\n",
              "        text-align: right;\n",
              "    }\n",
              "</style>\n",
              "<table border=\"1\" class=\"dataframe\">\n",
              "  <thead>\n",
              "    <tr style=\"text-align: right;\">\n",
              "      <th></th>\n",
              "      <th>source</th>\n",
              "      <th>passage</th>\n",
              "      <th>question</th>\n",
              "      <th>answer</th>\n",
              "      <th>rationale</th>\n",
              "      <th>span_start</th>\n",
              "      <th>span_end</th>\n",
              "      <th>history</th>\n",
              "    </tr>\n",
              "  </thead>\n",
              "  <tbody>\n",
              "    <tr>\n",
              "      <th>0</th>\n",
              "      <td>mctest</td>\n",
              "      <td>Mary loved walking through the woods with her ...</td>\n",
              "      <td>Where did they like to hide?</td>\n",
              "      <td>Behind the raspberry bushes.</td>\n",
              "      <td>their secret hiding place behind the raspberry...</td>\n",
              "      <td>445</td>\n",
              "      <td>498</td>\n",
              "      <td>What did they look for together? Blueberries. ...</td>\n",
              "    </tr>\n",
              "    <tr>\n",
              "      <th>1</th>\n",
              "      <td>cnn</td>\n",
              "      <td>(CNN) -- Tragically, another celebrity has die...</td>\n",
              "      <td>which country singer's death is in the headlines?</td>\n",
              "      <td>Mindy McCready</td>\n",
              "      <td>Country singer Mindy McCready's death</td>\n",
              "      <td>136</td>\n",
              "      <td>174</td>\n",
              "      <td>what was Wyatt D.'s cause of death? drug-relat...</td>\n",
              "    </tr>\n",
              "    <tr>\n",
              "      <th>2</th>\n",
              "      <td>wikipedia</td>\n",
              "      <td>Vermont () is a state in the New England regio...</td>\n",
              "      <td>Which force represented the New Hampshire colo...</td>\n",
              "      <td>Green Mountain Boys militia</td>\n",
              "      <td>Settlers who held land titles granted by New Y...</td>\n",
              "      <td>1309</td>\n",
              "      <td>1495</td>\n",
              "      <td>During what historic event? Seven Years' War. ...</td>\n",
              "    </tr>\n",
              "    <tr>\n",
              "      <th>3</th>\n",
              "      <td>race</td>\n",
              "      <td>When Charles Stratton was five, he stopped gro...</td>\n",
              "      <td>Who did Tom marry?</td>\n",
              "      <td>Lavinia Warren</td>\n",
              "      <td>One of the little people was Lavinia Warren, a...</td>\n",
              "      <td>965</td>\n",
              "      <td>1075</td>\n",
              "      <td>What was Charles Stratton's nickname? General ...</td>\n",
              "    </tr>\n",
              "    <tr>\n",
              "      <th>4</th>\n",
              "      <td>mctest</td>\n",
              "      <td>The turtle and the fox were best friends. One ...</td>\n",
              "      <td>What did Turtle want to do with him?</td>\n",
              "      <td>go fishing</td>\n",
              "      <td>he wanted to go fishing</td>\n",
              "      <td>636</td>\n",
              "      <td>659</td>\n",
              "      <td>Who was Turtle friends with? fox.</td>\n",
              "    </tr>\n",
              "  </tbody>\n",
              "</table>\n",
              "</div>\n",
              "      <button class=\"colab-df-convert\" onclick=\"convertToInteractive('df-ab95bbc9-da97-4e51-99f8-7a9f3385ce2d')\"\n",
              "              title=\"Convert this dataframe to an interactive table.\"\n",
              "              style=\"display:none;\">\n",
              "        \n",
              "  <svg xmlns=\"http://www.w3.org/2000/svg\" height=\"24px\"viewBox=\"0 0 24 24\"\n",
              "       width=\"24px\">\n",
              "    <path d=\"M0 0h24v24H0V0z\" fill=\"none\"/>\n",
              "    <path d=\"M18.56 5.44l.94 2.06.94-2.06 2.06-.94-2.06-.94-.94-2.06-.94 2.06-2.06.94zm-11 1L8.5 8.5l.94-2.06 2.06-.94-2.06-.94L8.5 2.5l-.94 2.06-2.06.94zm10 10l.94 2.06.94-2.06 2.06-.94-2.06-.94-.94-2.06-.94 2.06-2.06.94z\"/><path d=\"M17.41 7.96l-1.37-1.37c-.4-.4-.92-.59-1.43-.59-.52 0-1.04.2-1.43.59L10.3 9.45l-7.72 7.72c-.78.78-.78 2.05 0 2.83L4 21.41c.39.39.9.59 1.41.59.51 0 1.02-.2 1.41-.59l7.78-7.78 2.81-2.81c.8-.78.8-2.07 0-2.86zM5.41 20L4 18.59l7.72-7.72 1.47 1.35L5.41 20z\"/>\n",
              "  </svg>\n",
              "      </button>\n",
              "      \n",
              "  <style>\n",
              "    .colab-df-container {\n",
              "      display:flex;\n",
              "      flex-wrap:wrap;\n",
              "      gap: 12px;\n",
              "    }\n",
              "\n",
              "    .colab-df-convert {\n",
              "      background-color: #E8F0FE;\n",
              "      border: none;\n",
              "      border-radius: 50%;\n",
              "      cursor: pointer;\n",
              "      display: none;\n",
              "      fill: #1967D2;\n",
              "      height: 32px;\n",
              "      padding: 0 0 0 0;\n",
              "      width: 32px;\n",
              "    }\n",
              "\n",
              "    .colab-df-convert:hover {\n",
              "      background-color: #E2EBFA;\n",
              "      box-shadow: 0px 1px 2px rgba(60, 64, 67, 0.3), 0px 1px 3px 1px rgba(60, 64, 67, 0.15);\n",
              "      fill: #174EA6;\n",
              "    }\n",
              "\n",
              "    [theme=dark] .colab-df-convert {\n",
              "      background-color: #3B4455;\n",
              "      fill: #D2E3FC;\n",
              "    }\n",
              "\n",
              "    [theme=dark] .colab-df-convert:hover {\n",
              "      background-color: #434B5C;\n",
              "      box-shadow: 0px 1px 3px 1px rgba(0, 0, 0, 0.15);\n",
              "      filter: drop-shadow(0px 1px 2px rgba(0, 0, 0, 0.3));\n",
              "      fill: #FFFFFF;\n",
              "    }\n",
              "  </style>\n",
              "\n",
              "      <script>\n",
              "        const buttonEl =\n",
              "          document.querySelector('#df-ab95bbc9-da97-4e51-99f8-7a9f3385ce2d button.colab-df-convert');\n",
              "        buttonEl.style.display =\n",
              "          google.colab.kernel.accessAllowed ? 'block' : 'none';\n",
              "\n",
              "        async function convertToInteractive(key) {\n",
              "          const element = document.querySelector('#df-ab95bbc9-da97-4e51-99f8-7a9f3385ce2d');\n",
              "          const dataTable =\n",
              "            await google.colab.kernel.invokeFunction('convertToInteractive',\n",
              "                                                     [key], {});\n",
              "          if (!dataTable) return;\n",
              "\n",
              "          const docLinkHtml = 'Like what you see? Visit the ' +\n",
              "            '<a target=\"_blank\" href=https://colab.research.google.com/notebooks/data_table.ipynb>data table notebook</a>'\n",
              "            + ' to learn more about interactive tables.';\n",
              "          element.innerHTML = '';\n",
              "          dataTable['output_type'] = 'display_data';\n",
              "          await google.colab.output.renderOutput(dataTable, element);\n",
              "          const docLink = document.createElement('div');\n",
              "          docLink.innerHTML = docLinkHtml;\n",
              "          element.appendChild(docLink);\n",
              "        }\n",
              "      </script>\n",
              "    </div>\n",
              "  </div>\n",
              "  "
            ]
          },
          "metadata": {},
          "execution_count": 20
        }
      ]
    },
    {
      "cell_type": "markdown",
      "source": [
        "## [Task 3] Model definition\n",
        "\n",
        "Write your own script to define the following transformer-based models from [huggingface](https://HuggingFace.co/).\n",
        "\n",
        "* [M1] DistilRoBERTa (distilberta-base)\n",
        "* [M2] BERTTiny (bert-tiny)\n",
        "\n",
        "**Note**: Remember to install the ```transformers``` python package!\n",
        "\n",
        "**Note**: We consider small transformer models for computational reasons!"
      ],
      "metadata": {
        "id": "bfc2f692",
        "papermill": {
          "duration": 0.017917,
          "end_time": "2022-12-29T15:38:06.597250",
          "exception": false,
          "start_time": "2022-12-29T15:38:06.579333",
          "status": "completed"
        },
        "tags": []
      }
    },
    {
      "cell_type": "code",
      "source": [
        "import transformers\n",
        "from transformers import AutoTokenizer\n",
        "from transformers import EncoderDecoderModel, AutoModelForQuestionAnswering\n",
        "\n",
        "import gc\n",
        "import warnings\n",
        "import wandb\n",
        "\n",
        "from torch.utils.data import Dataset, DataLoader\n",
        "from allennlp_models.rc.tools import squad"
      ],
      "metadata": {
        "execution": {
          "iopub.execute_input": "2022-12-29T15:38:06.635513Z",
          "iopub.status.busy": "2022-12-29T15:38:06.635187Z",
          "iopub.status.idle": "2022-12-29T15:38:16.914210Z",
          "shell.execute_reply": "2022-12-29T15:38:16.913225Z"
        },
        "id": "43f5fa37",
        "papermill": {
          "duration": 10.301025,
          "end_time": "2022-12-29T15:38:16.916641",
          "exception": false,
          "start_time": "2022-12-29T15:38:06.615616",
          "status": "completed"
        },
        "tags": []
      },
      "execution_count": 21,
      "outputs": []
    },
    {
      "cell_type": "markdown",
      "source": [
        "## Models\n",
        "\n",
        "The models we are going to use are based on two architectures stacked together:\n",
        "\n",
        "\n",
        "1.   **Span Extractor** (Bert/Roberta for Question-Answering)\n",
        "2.   **Answer Generator** (Bert/Roberta Encoder-Decoder)\n",
        "\n",
        "The idea is to use `Span Extractor` to predict the **Rationale** (the sentence where we can find the answer) that will make it easier for the `Answer Generator` to predict the answer.\n",
        "\n",
        "To do that, we have to pass the **Question & Passage** to the `Span Extractor` so that we get the **Span Start Index & Span End Index**.\n",
        "\n",
        "Then retrieve the Rationale from the Passage by considering the tokens lying between these indexes. Now we can create the input for the `Answer Generator` that will include both **Question & Rationale**.\n",
        "\n",
        "<br>\n",
        "\n",
        "In short:\n",
        "\n",
        "Question + Passage -> `Span Extractor` -> Rationale -> Question + Rationale -> `Answer Generator` -> Answer\n",
        "\n",
        "<br>\n",
        "\n",
        "**THEACHER FORCING**\n",
        "\n",
        "Since the training of the `Answer Generator` is heavily dependent on the rationale it gets as input, we used a **Teacher Forcing** approach. This means that in the first steps (when the Rationale predicted from the first network is not good) the Encoder-Decoder will use the **ground truth rationale** to predict the answer. The likelihood of this happening decreases linearly as training progresses."
      ],
      "metadata": {
        "id": "88396225",
        "papermill": {
          "duration": 0.018175,
          "end_time": "2022-12-29T15:38:16.953640",
          "exception": false,
          "start_time": "2022-12-29T15:38:16.935465",
          "status": "completed"
        },
        "tags": []
      }
    },
    {
      "cell_type": "markdown",
      "source": [
        "![model_architecture.jpg](data:image/jpeg;base64,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)"
      ],
      "metadata": {
        "id": "b6d52797",
        "papermill": {
          "duration": 0.018228,
          "end_time": "2022-12-29T15:38:16.990180",
          "exception": false,
          "start_time": "2022-12-29T15:38:16.971952",
          "status": "completed"
        },
        "tags": []
      }
    },
    {
      "cell_type": "markdown",
      "source": [
        "### DistilRoBERTa\n",
        "\n",
        "Inputs accepted by **RoBERTa** are of the following form (depending on whether we include the history or not):\n",
        "\n",
        "*   \\[CLS] Q \\[SEP] \\[SEP] P \\[SEP] \\*\\[PAD]\n",
        "*   \\[CLS] Q \\[SEP] \\[SEP] R \\[SEP] \\*\\[PAD]\n",
        "*   \\[CLS] H + Q \\[SEP] \\[SEP] P \\[SEP] \\*\\[PAD]\n",
        "*   \\[CLS] H + Q \\[SEP] \\[SEP] R \\[SEP] \\*\\[PAD]\n",
        "\n",
        "where H + Q means that the **History ( H )** has been prepended to the current **Question ( Q )**, and the `*` means that the **Padding ( \\[PAD] )** may not be present. Usually when the **Padding** is present it includes more than just one token! (e.g. \\[CLS] Q \\[SEP] \\[SEP] P \\[SEP] \\[PAD] ... \\[PAD])\n",
        "\n",
        "<br>\n",
        "\n",
        "The most complex part is to re-create the input for the second model. In short:\n",
        "\n",
        "1.   Get `start_idx/end_idx` predicted by the Span Extractor \n",
        "2.   Extract the Rationale which is `Passage[start_idx:end_idx]`\n",
        "3.   Refine the **Rationale ( R )**, we want to `remove all the special tokens` (i.e. \\[SEP] and \\[PAD]; \\[CLS] tokens can't be present here!)\n",
        "4.   Compose the new input: \\[CLS] Q \\[SEP] **\\[SEP] R \\[SEP] \\[PAD]**\n",
        "\n",
        "**ATTENTION**: Only the part in **bold** of the point **4** is composed by hand. It must be appended to **\\[CLS] Q \\[SEP]** which is already present in the input of the `Span Extractor`! In the code \\[CLS] Q \\[SEP] is represented with the variable `quest`.\n",
        "\n"
      ],
      "metadata": {
        "id": "897c5960",
        "papermill": {
          "duration": 0.018879,
          "end_time": "2022-12-29T15:38:17.027588",
          "exception": false,
          "start_time": "2022-12-29T15:38:17.008709",
          "status": "completed"
        },
        "tags": []
      }
    },
    {
      "cell_type": "code",
      "source": [
        "class M1(torch.nn.Module):\n",
        "  def __init__(self, name='DistilRoBERTa', finetuned=True, tie_encoder_decoder=False, **kwargs):\n",
        "    super(M1, self).__init__(**kwargs)\n",
        "    self.name = name\n",
        "\n",
        "    # Tokenizer\n",
        "    self.tokenizer = AutoTokenizer.from_pretrained(\"distilroberta-base\")\n",
        "\n",
        "    # Rationale Extractor\n",
        "    if finetuned:\n",
        "        self.span_extractor = AutoModelForQuestionAnswering.from_pretrained(\"squirro/distilroberta-base-squad_v2\")\n",
        "    else:\n",
        "        self.span_extractor = AutoModelForQuestionAnswering.from_pretrained(\"distilroberta-base\")\n",
        "    \n",
        "    # Answer Generator\n",
        "    self.answer_generator = EncoderDecoderModel.from_encoder_decoder_pretrained(\"distilroberta-base\", \n",
        "                                                                                \"distilroberta-base\",\n",
        "                                                                                tie_encoder_decoder=tie_encoder_decoder)\n",
        "  \n",
        "    # Set decoder configuration\n",
        "    self.answer_generator.config.decoder.is_decoder = True\n",
        "    self.answer_generator.config.decoder.add_cross_attention=True\n",
        "\n",
        "    # Set model configuration\n",
        "    self.answer_generator.config.decoder_start_token_id = self.tokenizer.cls_token_id\n",
        "    self.answer_generator.config.pad_token_id = self.tokenizer.pad_token_id\n",
        "\n",
        "    # Generation parameters\n",
        "    self.answer_generator.config.max_length = 64\n",
        "    self.answer_generator.config.min_length = 2\n",
        "    self.answer_generator.config.no_repeat_ngram_size = 3\n",
        "    self.span_extractor.config.finetuning_task = True\n",
        "    self.answer_generator.config.finetuning_task = True\n",
        "    self.answer_generator.config.repetition_penalty = 3.0\n",
        "    self.answer_generator.config.num_beams = 10\n",
        "    \n",
        "  def forward(self, inputs, labels, teacher_perc, **kwargs):\n",
        "      device = torch.device('cuda' if torch.cuda.is_available() else 'cpu')\n",
        "\n",
        "      sep_token = torch.tensor([self.tokenizer.sep_token_id]).to(device)\n",
        "      pad_token = torch.tensor([self.tokenizer.pad_token_id]).to(device)\n",
        "      max_length = torch.tensor(inputs['input_ids'].shape[-1]).to(device)\n",
        "\n",
        "      ##########################################################################\n",
        "      ######################### SPAN EXTRACTOR NETWORK #########################\n",
        "      ##########################################################################\n",
        "\n",
        "      ############### Predict Rationale from Question + Passage ################\n",
        "      span_out = self.span_extractor(input_ids=inputs['input_ids'],\n",
        "                                     attention_mask=inputs['attention_mask'],\n",
        "                                     start_positions=inputs['start_positions'],\n",
        "                                     end_positions=inputs['end_positions'])\n",
        "      \n",
        "      span_loss = span_out['loss']\n",
        "\n",
        "      ##########################################################################\n",
        "      ######################## ENCODER-DECODER NETWORK #########################\n",
        "      ##########################################################################\n",
        "      if np.random.rand() < teacher_perc:\n",
        "          \n",
        "          ###### Predict Answer from Question + Rationale (GROUND TRUTH) #######\n",
        "          gen_loss = self.answer_generator(input_ids=inputs['rationale_ids'],\n",
        "                                           attention_mask=inputs['rationale_attention_mask'],\n",
        "                                           labels=labels).loss\n",
        "      \n",
        "      else:\n",
        "          ######### Re-create the input for the EncoderDecoder Network #########\n",
        "          span_start = span_out['start_logits'].argmax(dim=-1)\n",
        "          span_end = span_out['end_logits'].argmax(dim=-1)\n",
        "\n",
        "          # Extract the *history + question - [CLS] H + Q [SEP] or [CLS] Q [SEP]\n",
        "          quest = list(map(lambda x: x[:(x == sep_token).nonzero()[0][0] + 1], inputs['input_ids']))\n",
        "          \n",
        "          # Extract the predicted rationale\n",
        "          rat = list(map(lambda x, q, s, e: \n",
        "                          x[len(q)+s:len(q)+e] if len(q) + s < max_length and e > s else\n",
        "                          x[len(q):],\n",
        "                          inputs['input_ids'], quest, span_start, span_end))\n",
        "          \n",
        "          # Remove 1st [SEP] token if present\n",
        "          rat = list(map(lambda x: \n",
        "                          x[1:] if x[0] == sep_token else   \n",
        "                          x,                                                                                                                      \n",
        "                          rat))\n",
        "        \n",
        "          # Remove separator and padding tokens from the end\n",
        "          rat = list(map(lambda x: \n",
        "                          x[:(x == sep_token).nonzero()[0][0]] if (sep_token in x) else   # R [SEP] -> R;  R [SEP] [PAD] -> R\n",
        "                          x,                                                              # R -> R\n",
        "                          rat))\n",
        "          \n",
        "          # Re-create the input - [CLS] Q [SEP] [SEP] R [SEP] *[PAD];  * -> may not be present\n",
        "          gen_ids = list(map(lambda q, r: \n",
        "                             torch.cat((q, sep_token, r[:max_length-len(q)-2], sep_token)).cpu().numpy() if len(r) > max_length - len(q) - 2 else\n",
        "                             torch.cat((q, sep_token, r, sep_token, torch.tensor([pad_token] * (max_length - len(q) - len(r) - 2)).to(device))).cpu().numpy(),\n",
        "                             quest, rat))\n",
        "          \n",
        "          # Input ids\n",
        "          gen_ids = np.array(gen_ids, copy=False)\n",
        "          gen_ids = torch.tensor(gen_ids, dtype=torch.int64).to(device)\n",
        "\n",
        "          # Attention Mask\n",
        "          gen_att = torch.tensor(torch.where(gen_ids != pad_token, 1, 0), dtype=torch.int64).to(device)\n",
        "          \n",
        "          ######## Predict Answer from Question + Rationale (PREDICTED) ########\n",
        "          gen_loss = self.answer_generator(input_ids=gen_ids,\n",
        "                                           attention_mask=gen_att,\n",
        "                                           labels=labels).loss\n",
        "      \n",
        "      return {'loss': gen_loss + span_loss,\n",
        "              'span_loss': span_loss,\n",
        "              'gen_loss': gen_loss}\n",
        "    \n",
        "  \n",
        "  def generate(self, inputs, **kwargs):\n",
        "      device = torch.device('cuda' if torch.cuda.is_available() else 'cpu')\n",
        "\n",
        "      sep_token = torch.tensor([self.tokenizer.sep_token_id]).to(device)\n",
        "      pad_token = torch.tensor([self.tokenizer.pad_token_id]).to(device)\n",
        "      max_length = torch.tensor(inputs['input_ids'].shape[-1]).to(device)\n",
        "\n",
        "      ##########################################################################\n",
        "      ######################### SPAN EXTRACTOR NETWORK #########################\n",
        "      ##########################################################################\n",
        "\n",
        "      ############### Predict Rationale from Question + Passage ################\n",
        "      span_out = self.span_extractor(input_ids=inputs['input_ids'],\n",
        "                                     attention_mask=inputs['attention_mask'])\n",
        "      \n",
        "      ##########################################################################\n",
        "      ######################## ENCODER-DECODER NETWORK #########################\n",
        "      ##########################################################################\n",
        "      \n",
        "      ########### Re-create the input for the EncoderDecoder Network ###########\n",
        "      span_start = span_out['start_logits'].argmax(dim=-1)\n",
        "      span_end = span_out['end_logits'].argmax(dim=-1)\n",
        "\n",
        "      # Extract the *history + question - [CLS] H + Q [SEP] or [CLS] Q [SEP]\n",
        "      quest = list(map(lambda x: x[:(x == sep_token).nonzero()[0][0] + 1], inputs['input_ids']))\n",
        "      \n",
        "      # Extract the predicted rationale\n",
        "      rat = list(map(lambda x, q, s, e: \n",
        "                      x[len(q)+s:len(q)+e] if len(q) + s < max_length and e > s else\n",
        "                      x[len(q):],\n",
        "                      inputs['input_ids'], quest, span_start, span_end))\n",
        "      \n",
        "      # Remove 1st [SEP] token if present\n",
        "      rat = list(map(lambda x: \n",
        "                      x[1:] if x[0] == sep_token else   \n",
        "                      x,                                                                                                                      \n",
        "                      rat))\n",
        "    \n",
        "      # Remove separator and padding tokens from the end\n",
        "      rat = list(map(lambda x: \n",
        "                      x[:(x == sep_token).nonzero()[0][0]] if (sep_token in x) else   # R [SEP] -> R;  R [SEP] [PAD] -> R\n",
        "                      x,                                                              # R -> R\n",
        "                      rat))\n",
        "      \n",
        "      # Re-create the input - [CLS] Q [SEP] [SEP] R [SEP] *[PAD];  * -> may not be present\n",
        "      gen_ids = list(map(lambda q, r: \n",
        "                          torch.cat((q, sep_token, r[:max_length-len(q)-2], sep_token)).cpu().numpy() if len(r) > max_length - len(q) - 2 else\n",
        "                          torch.cat((q, sep_token, r, sep_token, torch.tensor([pad_token] * (max_length - len(q) - len(r) - 2)).to(device))).cpu().numpy(),\n",
        "                          quest, rat))\n",
        "      \n",
        "      # Input ids\n",
        "      gen_ids = np.array(gen_ids, copy=False)\n",
        "      gen_ids = torch.tensor(gen_ids, dtype=torch.int64).to(device)\n",
        "\n",
        "      # Attention Mask\n",
        "      gen_att = torch.tensor(torch.where(gen_ids != pad_token, 1, 0), dtype=torch.int64).to(device)\n",
        "\n",
        "      ################ Predict Answer from Question + Rationale ################\n",
        "      pred = self.answer_generator.generate(input_ids=gen_ids,\n",
        "                                            attention_mask=gen_att)\n",
        "      return pred, gen_ids, (span_start.cpu().tolist(), span_end.cpu().tolist())\n"
      ],
      "metadata": {
        "execution": {
          "iopub.execute_input": "2022-12-29T15:38:17.066847Z",
          "iopub.status.busy": "2022-12-29T15:38:17.066228Z",
          "iopub.status.idle": "2022-12-29T15:38:17.096756Z",
          "shell.execute_reply": "2022-12-29T15:38:17.095945Z"
        },
        "id": "a77ffe57",
        "papermill": {
          "duration": 0.052569,
          "end_time": "2022-12-29T15:38:17.098787",
          "exception": false,
          "start_time": "2022-12-29T15:38:17.046218",
          "status": "completed"
        },
        "tags": []
      },
      "execution_count": 22,
      "outputs": []
    },
    {
      "cell_type": "markdown",
      "source": [
        "### BERTTiny\n",
        "\n",
        "Inputs accepted by **BERT** are of the following form (depending on whether we include the history or not):\n",
        "\n",
        "*   \\[CLS] Q \\[SEP] P \\[SEP] \\*\\[PAD]\n",
        "*   \\[CLS] Q \\[SEP] R \\[SEP] \\*\\[PAD]\n",
        "*   \\[CLS] H + Q \\[SEP] P \\[SEP] \\*\\[PAD]\n",
        "*   \\[CLS] H + Q \\[SEP] R \\[SEP] \\*\\[PAD]\n",
        "\n",
        "where H + Q means that the **History ( H )** has been prepended to the current **Question ( Q )**, and the `*` means that the **Padding ( [PAD] )** may not be present. Usually when the **Padding** is present it includes more than just one token! (e.g. \\[CLS] Q \\[SEP] P \\[SEP] \\[PAD] ... \\[PAD])\n",
        "\n",
        "<br>\n",
        "\n",
        "The most complex part is to re-create the input for the second model. In short:\n",
        "\n",
        "1.   Get `start_idx/end_idx` predicted by the Span Extractor \n",
        "2.   Extract the Rationale which is `Passage[start_idx:end_idx]`\n",
        "3.   Refine the **Rationale ( R )**, we want to `remove all the special tokens` (i.e. \\[SEP] and \\[PAD]; \\[CLS] tokens can't be present here!)\n",
        "4.   Compose the new input: \\[CLS] Q \\[SEP] **R [SEP] \\[PAD]**\n",
        "\n",
        "**ATTENTION**: Only the part in **bold** of the point **4** is composed by hand. It must be appended to **[CLS] Q [SEP]** which is already present in the input of the `Span Extractor`! In the code [CLS] Q [SEP] is represented with the variable `quest`."
      ],
      "metadata": {
        "id": "918c4434",
        "papermill": {
          "duration": 0.018112,
          "end_time": "2022-12-29T15:38:17.135668",
          "exception": false,
          "start_time": "2022-12-29T15:38:17.117556",
          "status": "completed"
        },
        "tags": []
      }
    },
    {
      "cell_type": "code",
      "source": [
        "class M2(torch.nn.Module):\n",
        "  def __init__(self, name='BERTTiny', finetuned=True, tie_encoder_decoder=False, **kwargs):\n",
        "    super(M2, self).__init__(**kwargs)\n",
        "    self.name = name\n",
        "\n",
        "    # Tokenizer\n",
        "    self.tokenizer = AutoTokenizer.from_pretrained(\"prajjwal1/bert-tiny\")\n",
        "\n",
        "    # Rationale Extractor\n",
        "    if finetuned:\n",
        "        self.span_extractor = AutoModelForQuestionAnswering.from_pretrained(\"mrm8488/bert-tiny-5-finetuned-squadv2\")\n",
        "    else:\n",
        "        self.span_extractor = AutoModelForQuestionAnswering.from_pretrained(\"prajjwal1/bert-tiny\")\n",
        "\n",
        "    # Answer Generator\n",
        "    self.answer_generator = EncoderDecoderModel.from_encoder_decoder_pretrained(\"prajjwal1/bert-tiny\", \n",
        "                                                                                \"prajjwal1/bert-tiny\",\n",
        "                                                                                tie_encoder_decoder=tie_encoder_decoder)\n",
        "  \n",
        "    # Set decoder configuration\n",
        "    self.answer_generator.config.decoder.is_decoder = True\n",
        "    self.answer_generator.config.decoder.add_cross_attention=True\n",
        "\n",
        "    # Set model configuration\n",
        "    self.answer_generator.config.decoder_start_token_id = self.tokenizer.cls_token_id\n",
        "    self.answer_generator.config.eos_token_id = self.tokenizer.sep_token_id\n",
        "    self.answer_generator.config.pad_token_id = self.tokenizer.pad_token_id\n",
        "    self.answer_generator.config.vocab_size = self.answer_generator.config.decoder.vocab_size\n",
        "\n",
        "    # Generation parameters\n",
        "    self.answer_generator.config.max_length = 64\n",
        "    self.answer_generator.config.min_length = 2\n",
        "    self.answer_generator.config.no_repeat_ngram_size = 3\n",
        "    self.span_extractor.config.finetuning_task = True\n",
        "    self.answer_generator.config.finetuning_task = True\n",
        "    self.answer_generator.config.repetition_penalty = 3.0\n",
        "    self.answer_generator.config.num_beams = 10\n",
        "    \n",
        "  def forward(self, inputs, labels, teacher_perc, **kwargs):\n",
        "      device = torch.device('cuda' if torch.cuda.is_available() else 'cpu')\n",
        "\n",
        "      sep_token = torch.tensor([self.tokenizer.sep_token_id]).to(device)\n",
        "      pad_token = torch.tensor([self.tokenizer.pad_token_id]).to(device)\n",
        "      max_length = torch.tensor(inputs['input_ids'].shape[-1]).to(device)\n",
        "\n",
        "      ##########################################################################\n",
        "      ######################### SPAN EXTRACTOR NETWORK #########################\n",
        "      ##########################################################################\n",
        "\n",
        "      ############### Predict Rationale from Question + Passage ################\n",
        "      span_out = self.span_extractor(input_ids=inputs['input_ids'],\n",
        "                                     attention_mask=inputs['attention_mask'],\n",
        "                                     start_positions=inputs['start_positions'],\n",
        "                                     end_positions=inputs['end_positions'])\n",
        "      \n",
        "      span_loss = span_out['loss']\n",
        "\n",
        "      ##########################################################################\n",
        "      ######################## ENCODER-DECODER NETWORK #########################\n",
        "      ##########################################################################\n",
        "      if np.random.rand() < teacher_perc:\n",
        "          \n",
        "          ###### Predict Answer from Question + Rationale (GROUND TRUTH) #######\n",
        "          gen_loss = self.answer_generator(input_ids=inputs['rationale_ids'],\n",
        "                                           attention_mask=inputs['rationale_attention_mask'],\n",
        "                                           labels=labels).loss\n",
        "      \n",
        "      else:\n",
        "          ######### Re-create the input for the EncoderDecoder Network #########\n",
        "          span_start = span_out['start_logits'].argmax(dim=-1)\n",
        "          span_end = span_out['end_logits'].argmax(dim=-1)\n",
        "\n",
        "          # Extract the *history + question - [CLS] H + Q [SEP] or [CLS] Q [SEP]\n",
        "          quest = list(map(lambda x: x[:(x == sep_token).nonzero()[0][0] + 1], inputs['input_ids']))\n",
        "          \n",
        "          # Extract the predicted rationale\n",
        "          rat = list(map(lambda x, q, s, e: \n",
        "                          x[len(q)+s:len(q)+e] if len(q) + s < max_length and e > s else\n",
        "                          x[len(q):],\n",
        "                          inputs['input_ids'], quest, span_start, span_end))\n",
        "          \n",
        "          # Remove separation and padding tokens at the end\n",
        "          rat = list(map(lambda x: \n",
        "                          x[:(x == sep_token).nonzero()[0][0]] if sep_token in x else   # R [SEP] -> R;  R [SEP] [PAD] -> R\n",
        "                          x,                                                            # R -> R\n",
        "                          rat))\n",
        "          \n",
        "          # Re-create the input - [CLS] Q [SEP] R [SEP] *[PAD]; * -> may not be present\n",
        "          gen_ids = list(map(lambda q, r: \n",
        "                             torch.cat((q, r[:max_length-len(q)-1], sep_token)).cpu().numpy() if len(r) > max_length - len(q) - 1 else\n",
        "                             torch.cat((q, r, sep_token, torch.tensor([pad_token] * (max_length - len(q) - len(r) - 1)).to(device))).cpu().numpy(),\n",
        "                             quest, rat))\n",
        "          \n",
        "          # Input ids\n",
        "          gen_ids = np.array(gen_ids, copy=False)\n",
        "          gen_ids = torch.tensor(gen_ids, dtype=torch.int64).to(device)\n",
        "\n",
        "          # Attention Mask\n",
        "          gen_att = torch.tensor(torch.where(gen_ids != pad_token, 1, 0), dtype=torch.int64).to(device)\n",
        "          \n",
        "          ######## Predict Answer from Question + Rationale (PREDICTED) ########\n",
        "          gen_loss = self.answer_generator(input_ids=gen_ids,\n",
        "                                           attention_mask=gen_att,\n",
        "                                           labels=labels).loss\n",
        "      \n",
        "      return {'loss': gen_loss + span_loss,\n",
        "              'span_loss': span_loss,\n",
        "              'gen_loss': gen_loss}\n",
        "    \n",
        "  \n",
        "  def generate(self, inputs, **kwargs):\n",
        "      device = torch.device('cuda' if torch.cuda.is_available() else 'cpu')\n",
        "      \n",
        "      sep_token = torch.tensor([self.tokenizer.sep_token_id]).to(device)\n",
        "      pad_token = torch.tensor([self.tokenizer.pad_token_id]).to(device)\n",
        "      max_length = torch.tensor(inputs['input_ids'].shape[-1]).to(device)\n",
        "\n",
        "      ##########################################################################\n",
        "      ######################### SPAN EXTRACTOR NETWORK #########################\n",
        "      ##########################################################################\n",
        "\n",
        "      ############### Predict Rationale from Question + Passage ################\n",
        "      span_out = self.span_extractor(input_ids=inputs['input_ids'],\n",
        "                                     attention_mask=inputs['attention_mask'])\n",
        "      \n",
        "      ##########################################################################\n",
        "      ######################## ENCODER-DECODER NETWORK #########################\n",
        "      ##########################################################################\n",
        "      \n",
        "      ########### Re-create the input for the EncoderDecoder Network ###########\n",
        "      span_start = span_out['start_logits'].argmax(dim=-1)\n",
        "      span_end = span_out['end_logits'].argmax(dim=-1)\n",
        "\n",
        "      # Extract the *history + question - [CLS] H + Q [SEP] or [CLS] Q [SEP]\n",
        "      quest = list(map(lambda x: x[:(x == sep_token).nonzero()[0][0] + 1], inputs['input_ids']))\n",
        "      \n",
        "      # Extract the predicted rationale\n",
        "      rat = list(map(lambda x, q, s, e: \n",
        "                      x[len(q)+s:len(q)+e] if len(q) + s < max_length and e > s else\n",
        "                      x[len(q):],\n",
        "                      inputs['input_ids'], quest, span_start, span_end))\n",
        "      \n",
        "      # Remove separation and padding tokens at the end\n",
        "      rat = list(map(lambda x: \n",
        "                      x[:(x == sep_token).nonzero()[0][0]] if sep_token in x else   # R [SEP] -> R;  R [SEP] [PAD] -> R\n",
        "                      x,                                                            # R -> R\n",
        "                      rat))\n",
        "      \n",
        "      # Re-create the input - [CLS] Q [SEP] R [SEP] *[PAD]; * -> may not be present\n",
        "      gen_ids = list(map(lambda q, r: \n",
        "                          torch.cat((q, r[:max_length-len(q)-1], sep_token)).cpu().numpy() if len(r) > max_length - len(q) - 1 else\n",
        "                          torch.cat((q, r, sep_token, torch.tensor([pad_token] * (max_length - len(q) - len(r) - 1)).to(device))).cpu().numpy(),\n",
        "                          quest, rat))\n",
        "      \n",
        "      # Input ids\n",
        "      gen_ids = np.array(gen_ids, copy=False)\n",
        "      gen_ids = torch.tensor(gen_ids, dtype=torch.int64).to(device)\n",
        "\n",
        "      # Attention Mask\n",
        "      gen_att = torch.tensor(torch.where(gen_ids != pad_token, 1, 0), dtype=torch.int64).to(device)\n",
        "\n",
        "      ################ Predict Answer from Question + Rationale ################\n",
        "      pred = self.answer_generator.generate(input_ids=gen_ids,\n",
        "                                            attention_mask=gen_att,\n",
        "                                            decoder_start_token_id=self.answer_generator.config.decoder.pad_token_id, **kwargs)\n",
        "      return pred, gen_ids, (span_start.cpu().tolist(), span_end.cpu().tolist())\n"
      ],
      "metadata": {
        "execution": {
          "iopub.execute_input": "2022-12-29T15:38:17.173870Z",
          "iopub.status.busy": "2022-12-29T15:38:17.173599Z",
          "iopub.status.idle": "2022-12-29T15:38:17.200840Z",
          "shell.execute_reply": "2022-12-29T15:38:17.199944Z"
        },
        "id": "68a972d4",
        "papermill": {
          "duration": 0.048753,
          "end_time": "2022-12-29T15:38:17.202842",
          "exception": false,
          "start_time": "2022-12-29T15:38:17.154089",
          "status": "completed"
        },
        "tags": []
      },
      "execution_count": 23,
      "outputs": []
    },
    {
      "cell_type": "markdown",
      "source": [
        "## Custom Dataset and Training Loop"
      ],
      "metadata": {
        "id": "01fc0f11",
        "papermill": {
          "duration": 0.018125,
          "end_time": "2022-12-29T15:38:17.239609",
          "exception": false,
          "start_time": "2022-12-29T15:38:17.221484",
          "status": "completed"
        },
        "tags": []
      }
    },
    {
      "cell_type": "markdown",
      "source": [
        "### Custom Dataset\n",
        "\n",
        "We customized the `Dataset` class such that we can tokenize tha data we get in a easy and efficient way.\n",
        "\n",
        "In particular, we created the function `find_indexes` which allows us to compute the position of the **rationale** (start/end token indexes) within the **passage**. In short the function:\n",
        "\n",
        "1.   Places two `Mask` tokens. One before the first token of the rationale and the other after the last token of the rationale.\n",
        "2.   Tokenizes the modified passage\n",
        "3.   Gets the position of the `Mask` tokens (`rat_start/rat_end`)\n",
        "4.   Corrects these positions depending on whether or not new tokens have been created.\n",
        "\n",
        "**ATTENTION**: In point **4** new tokens can be created due to the Byte-Pair Encoding (BPE) adopted by RoBERTa tokenizer. This means that when we add the `Mask` tokens the tokenizer can behave differently! (e.g. It can change the tokens before and after the mask because the byte pairs may have changed)\n",
        "\n"
      ],
      "metadata": {
        "id": "d3ed42c9",
        "papermill": {
          "duration": 0.017973,
          "end_time": "2022-12-29T15:38:17.275812",
          "exception": false,
          "start_time": "2022-12-29T15:38:17.257839",
          "status": "completed"
        },
        "tags": []
      }
    },
    {
      "cell_type": "code",
      "source": [
        "def find_indexes(tokenizer, passage, start_idx, end_idx, encoder_max_len, model_name):\n",
        "    \"\"\"\n",
        "    Inputs:\n",
        "      - Passage\n",
        "      - Position of the first character of the Rationale\n",
        "      - Position of the last character of the Rationale\n",
        "      - Model name\n",
        "\n",
        "    Returns:\n",
        "      - Position of the first token of the Rationale\n",
        "      - Position of the last token of the Rationale\n",
        "    \"\"\"\n",
        "\n",
        "    # Surround Rationale with [SEP] tokens ->  ...[SEP]Rationale[SEP]...\n",
        "    passage_ext = passage[:start_idx] + tokenizer.sep_token + passage[start_idx:end_idx] + tokenizer.sep_token + passage[end_idx:]\n",
        "    passage_tokens = np.array(tokenizer(passage_ext).input_ids)\n",
        "\n",
        "    rat_start = np.where(passage_tokens == tokenizer.sep_token_id)[0][0]    # 1st [SEP] (rationale start)\n",
        "    rat_end = np.where(passage_tokens == tokenizer.sep_token_id)[0][1] - 1  # 2nd [SEP] (rationale end)\n",
        "\n",
        "    left_tokens = len(tokenizer(passage[:end_idx]).input_ids[:-1]) \n",
        "    right_tokens = len(tokenizer(passage[start_idx:]).input_ids[1:])\n",
        "    tot_tokens = len(tokenizer(passage_ext).input_ids)\n",
        "\n",
        "    left_correct = rat_end - left_tokens\n",
        "    right_correct = tot_tokens - rat_start - 2 - right_tokens - left_correct\n",
        "\n",
        "    if model_name == 'BERTTiny': # BERT-Tiny introduces one less token wrt RoBERTa \n",
        "        rat_start -= 1\n",
        "        rat_end -= 1\n",
        "    return max(0, rat_start - left_correct), min(encoder_max_len-1, rat_end + right_correct)"
      ],
      "metadata": {
        "id": "S3fIi22hyhBC"
      },
      "execution_count": 24,
      "outputs": []
    },
    {
      "cell_type": "code",
      "source": [
        "class TokenizedDataset(Dataset):\n",
        "    \n",
        "    def __init__(self, df, model, history=False, encoder_max_len=512, decoder_max_len=32):\n",
        "        super(TokenizedDataset).__init__()\n",
        "        self.df = df\n",
        "        self.name = model.name\n",
        "        self.tokenizer = model.tokenizer \n",
        "        self.history = history\n",
        "        self.encoder_max_len = encoder_max_len\n",
        "        self.decoder_max_len = decoder_max_len\n",
        "        \n",
        "    def __len__(self):\n",
        "        return len(self.df) \n",
        "    \n",
        "    def __getitem__(self, idx):\n",
        "        \n",
        "        row  = self.df.iloc[idx]\n",
        "        passage = row.passage\n",
        "        history = row.history\n",
        "        question = row.question   \n",
        "        answer = row.answer\n",
        "        rationale = row.rationale\n",
        "        start_idx = row.span_start\n",
        "        end_idx = row.span_end\n",
        "\n",
        "        span_start, span_end = find_indexes(self.tokenizer, passage, start_idx, end_idx, self.encoder_max_len, self.name)\n",
        "\n",
        "        if self.history is False:\n",
        "          # INPUT:  [CLS] QUESTION [SEP] PASSAGE [SEP] *[PAD]\n",
        "          input_encoding = self.tokenizer(\n",
        "              question, \n",
        "              passage, \n",
        "              padding='max_length',\n",
        "              truncation=True,\n",
        "              max_length=self.encoder_max_len, \n",
        "          )\n",
        "          rationale_encoding = self.tokenizer(\n",
        "              question, \n",
        "              rationale, \n",
        "              padding='max_length',\n",
        "              truncation=True,\n",
        "              max_length=self.encoder_max_len, \n",
        "          )          \n",
        "        else:\n",
        "          # INPUT:  [CLS] HISTORY + QUESTION [SEP] PASSAGE [SEP] *[PAD]\n",
        "          input_encoding = self.tokenizer(\n",
        "              history + question, \n",
        "              passage, \n",
        "              padding='max_length',\n",
        "              truncation=True,\n",
        "              max_length=self.encoder_max_len, \n",
        "          )\n",
        "          rationale_encoding = self.tokenizer(\n",
        "              history + question, \n",
        "              rationale, \n",
        "              padding='max_length',\n",
        "              truncation=True,\n",
        "              max_length=self.encoder_max_len, \n",
        "          )\n",
        "\n",
        "        # OUTPUT: [CLS] ANSWER [SEP] *[PAD]\n",
        "        output_encoding = self.tokenizer(\n",
        "            answer, truncation=True, padding='max_length', max_length=self.decoder_max_len \n",
        "        )\n",
        "                      \n",
        "        labels = output_encoding.input_ids\n",
        "        \n",
        "        # Ignore the loss of the [PAD] labels by setting them to -100\n",
        "        labels = [-100 if token == self.tokenizer.pad_token_id else token for token in labels]\n",
        "        labels = torch.tensor(labels, dtype=torch.int64)\n",
        "          \n",
        "        inputs = {\n",
        "            'input_ids': torch.tensor(input_encoding.input_ids, dtype=torch.int64),\n",
        "            'attention_mask': torch.tensor(input_encoding.attention_mask, dtype=torch.int64),\n",
        "\n",
        "            'rationale_ids': torch.tensor(rationale_encoding.input_ids, dtype=torch.int64),\n",
        "            'rationale_attention_mask': torch.tensor(rationale_encoding.attention_mask, dtype=torch.int64),\n",
        "\n",
        "            'start_positions': torch.tensor(span_start, dtype=torch.int64),\n",
        "            'end_positions': torch.tensor(span_end, dtype=torch.int64)\n",
        "        }\n",
        "          \n",
        "        return inputs, labels"
      ],
      "metadata": {
        "execution": {
          "iopub.execute_input": "2022-12-29T15:38:17.314767Z",
          "iopub.status.busy": "2022-12-29T15:38:17.314493Z",
          "iopub.status.idle": "2022-12-29T15:38:17.330752Z",
          "shell.execute_reply": "2022-12-29T15:38:17.329857Z"
        },
        "id": "f4fb84cd",
        "papermill": {
          "duration": 0.037826,
          "end_time": "2022-12-29T15:38:17.332770",
          "exception": false,
          "start_time": "2022-12-29T15:38:17.294944",
          "status": "completed"
        },
        "tags": []
      },
      "execution_count": 25,
      "outputs": []
    },
    {
      "cell_type": "markdown",
      "source": [
        "### Training Loop\n",
        "\n",
        "In the training loop we simply train the model according to the selected parameters. "
      ],
      "metadata": {
        "id": "63a8eb43",
        "papermill": {
          "duration": 0.018782,
          "end_time": "2022-12-29T15:38:17.369952",
          "exception": false,
          "start_time": "2022-12-29T15:38:17.351170",
          "status": "completed"
        },
        "tags": []
      }
    },
    {
      "cell_type": "code",
      "source": [
        "def train(model,\n",
        "          train_dataset, \n",
        "          val_dataset,\n",
        "          batch_size=32, \n",
        "          gradient_accumulation=1,\n",
        "          epochs=3, \n",
        "          lr=5e-5,\n",
        "          teacher_start=1, \n",
        "          teacher_end=0.1, \n",
        "          save_path=None,\n",
        "          monitor=True):\n",
        "\n",
        "      # Prepare DataLoaders\n",
        "      train_loader = DataLoader(train_dataset, batch_size=batch_size, drop_last=False, shuffle=True, num_workers=2, pin_memory=True)\n",
        "      val_loader   = DataLoader(val_dataset,   batch_size=batch_size, drop_last=False, shuffle=True, num_workers=2, pin_memory=True)\n",
        "\n",
        "      # Check for GPU\n",
        "      device = torch.device('cuda' if torch.cuda.is_available() else 'cpu')\n",
        "      model.to(device)\n",
        "\n",
        "      if monitor:\n",
        "          # Connect Wandb\n",
        "          wandb.login()\n",
        "          wandb.init(project='NLP')\n",
        "          wandb.config = {\"learning_rate\": lr, \"epochs\": epochs}\n",
        "          wandb.watch(model)\n",
        "          print('\\n')\n",
        "\n",
        "      # Optimizer\n",
        "      optimizer = transformers.AdamW(model.parameters(), lr=lr, weight_decay=0.01, correct_bias=True, no_deprecation_warning=True)\n",
        "\n",
        "      # Teacher Forcing Decay Schedule\n",
        "      decay_steps = len(train_loader.dataset) * epochs\n",
        "      decay_rate = teacher_end / teacher_start\n",
        "\n",
        "      train_loss = []; val_loss = []; tot_steps = 0\n",
        "      loss_avg = 0.0; span_loss_avg = 0.0; gen_loss_avg = 0.0\n",
        "\n",
        "      for epoch in range(epochs):\n",
        "\n",
        "          # TRAINING LOOP\n",
        "          train_loop = tqdm(train_loader, leave=False, miniters=int(50), maxinterval=60)\n",
        "\n",
        "          model.train()\n",
        "          epoch_train_loss = 0.0\n",
        "          optimizer.zero_grad()\n",
        "          for idx, (inputs, labels) in enumerate(train_loop):\n",
        "              \n",
        "              # Teacher Forcing Linear Decay \n",
        "              teacher_perc = teacher_end + (teacher_start - teacher_end) * (1 - tot_steps / decay_steps)\n",
        "\n",
        "              inputs = {k: v.to(device) for k, v in inputs.items()}\n",
        "              labels = labels.to(device)\n",
        "                    \n",
        "              # Forward pass\n",
        "              outputs = model(inputs, labels=labels, teacher_perc=teacher_perc)\n",
        "              loss = outputs['loss'] / gradient_accumulation\n",
        "\n",
        "              # Accumulate loss\n",
        "              epoch_train_loss += float(outputs['loss'])\n",
        "              tot_steps += labels.shape[0]\n",
        "              \n",
        "              if monitor:\n",
        "                  # Loss Exponential Moving Average\n",
        "                  loss_avg = float(outputs['loss']) * (2 / (512/batch_size+1)) + loss_avg * (1 - (2 / (512/batch_size+1)))\n",
        "                  span_loss_avg = float(outputs['span_loss']) * (2 / (512/batch_size+1)) + span_loss_avg * (1 - (2 / (512/batch_size+1)))\n",
        "                  gen_loss_avg = float(outputs['gen_loss']) * (2 / (512/batch_size+1)) + gen_loss_avg * (1 - (2 / (512/batch_size+1)))\n",
        "\n",
        "              # Backward pass\n",
        "              loss.backward()\n",
        "              if ((idx + 1) % gradient_accumulation == 0) or (idx + 1 == len(train_loader)):\n",
        "                  optimizer.step()\n",
        "                  optimizer.zero_grad()\n",
        "              \n",
        "                  if monitor and idx > 1024/batch_size:\n",
        "                      wandb.log({\"loss\": loss_avg,\n",
        "                                \"span_loss\": span_loss_avg,\n",
        "                                \"gen_loss\": gen_loss_avg,\n",
        "                                \"teacher_perc\": teacher_perc}, step=tot_steps)\n",
        "              \n",
        "              gc.collect()\n",
        "              \n",
        "          avg_loss = epoch_train_loss / len(train_loader)\n",
        "          train_loss.append(avg_loss)\n",
        "\n",
        "          # VALIDATION LOOP\n",
        "          val_loop = tqdm(val_loader, leave=False, miniters=int(50), maxinterval=60)\n",
        "\n",
        "          model.eval()\n",
        "          epoch_val_loss = 0\n",
        "          with torch.no_grad():\n",
        "              for inputs, labels in val_loop:\n",
        "                  \n",
        "                  inputs = {k: v.to(device) for k, v in inputs.items()}\n",
        "                  labels = labels.to(device)\n",
        "\n",
        "                  # Forward pass\n",
        "                  outputs = model.forward(inputs, labels=labels, teacher_perc=0)\n",
        "                  loss = outputs[\"loss\"]\n",
        "\n",
        "                  # Accumulate loss\n",
        "                  epoch_val_loss += loss\n",
        "\n",
        "          avg_val_loss = epoch_val_loss / len(val_loader)\n",
        "          val_loss.append(avg_val_loss)\n",
        "\n",
        "          if monitor:\n",
        "              wandb.log({\"val_loss\": avg_val_loss}, step=tot_steps)\n",
        "\n",
        "          print(f'\\nEpoch = {epoch}: train_loss = {avg_loss:.4f}; val_loss = {avg_val_loss:.4f}\\n')\n",
        "\n",
        "      # Save model weight for inference\n",
        "      if save_path is not None:\n",
        "          torch.save(model, save_path)\n",
        "\n",
        "          del model\n",
        "          print(\"The model has been saved!\")\n",
        "      else:\n",
        "          print(\"The training is finished!\")\n",
        "\n",
        "\n",
        "def train_model(model, df, params):\n",
        "    \"\"\"\n",
        "    Inputs:\n",
        "      - Model to train\n",
        "      - Training Parameters\n",
        "\n",
        "    Return:\n",
        "      - Path of the saved model\n",
        "    \"\"\"\n",
        "    warnings.filterwarnings('ignore')\n",
        "    seed = params['seed']\n",
        "    fix_random(seed=seed)\n",
        "\n",
        "    # Split DataFrame\n",
        "    df_train, df_val, _ = split_data(df, seed=seed)\n",
        "\n",
        "    # Compute History\n",
        "    train_data = preprocess_data(df_train, hist_length=params['history_length'])\n",
        "    val_data   = preprocess_data(df_val,   hist_length=params['history_length'])\n",
        "\n",
        "    # Tokenize Data\n",
        "    train_dataset = TokenizedDataset(train_data, model, history=params['history'])\n",
        "    val_dataset   = TokenizedDataset(val_data,   model, history=params['history'])\n",
        "\n",
        "    if params['history']:\n",
        "      save_path = model.name + f'-{params[\"history_length\"]}-history-checkpoint'\n",
        "    else:\n",
        "      save_path = model.name + '-checkpoint'\n",
        "\n",
        "    # Train\n",
        "    train(model, \n",
        "          train_dataset, \n",
        "          val_dataset, \n",
        "          batch_size=params['batch_size'],\n",
        "          gradient_accumulation=params['gradient_accumulation'],\n",
        "          epochs=params['epochs'],\n",
        "          lr=params['lr'],\n",
        "          teacher_start=params['teacher_start'], \n",
        "          teacher_end=params['teacher_end'],\n",
        "          save_path=save_path,\n",
        "          monitor=params['monitor'])\n",
        "    \n",
        "    return save_path"
      ],
      "metadata": {
        "execution": {
          "iopub.execute_input": "2022-12-29T15:38:17.409018Z",
          "iopub.status.busy": "2022-12-29T15:38:17.408679Z",
          "iopub.status.idle": "2022-12-29T15:38:17.427796Z",
          "shell.execute_reply": "2022-12-29T15:38:17.426770Z"
        },
        "id": "c53213cd",
        "papermill": {
          "duration": 0.04175,
          "end_time": "2022-12-29T15:38:17.430027",
          "exception": false,
          "start_time": "2022-12-29T15:38:17.388277",
          "status": "completed"
        },
        "tags": []
      },
      "execution_count": 26,
      "outputs": []
    },
    {
      "cell_type": "code",
      "source": [
        "def predict(model, test_loader, **kwargs):\n",
        "    \"\"\"\n",
        "    Inputs:\n",
        "      - Model\n",
        "      - Test Loader\n",
        "\n",
        "    Return:\n",
        "      - Predicted Answers    : List\n",
        "      - Predicted Rationales : List\n",
        "    \"\"\"\n",
        "    \n",
        "    # Check for GPU\n",
        "    device = torch.device('cuda' if torch.cuda.is_available() else 'cpu')\n",
        "    model.to(device)\n",
        "\n",
        "    test_loop = tqdm(test_loader, leave=False)\n",
        "    pred = []; pred_rat = []\n",
        "    model.eval()\n",
        "    with torch.no_grad():\n",
        "      for inputs, labels in test_loop:\n",
        "\n",
        "          inputs = {k: v.to(device) for k, v in inputs.items()}\n",
        "          labels = torch.tensor([[model.tokenizer.pad_token_id if token == -100 else token for token in label] for label in labels], dtype=torch.int64)\n",
        "          labels = labels.to(device)\n",
        "         \n",
        "          # Forward pass\n",
        "          outputs, gen_ids, _ = model.generate(inputs, **kwargs)\n",
        "\n",
        "          for idx in range(gen_ids.shape[0]):\n",
        "              start_rat = (gen_ids[idx] == model.tokenizer.sep_token_id).nonzero()[0][0] + 1\n",
        "              gen_id = gen_ids[idx][start_rat:]\n",
        "              pred_rat.append(model.tokenizer.decode(gen_id, skip_special_tokens=True))\n",
        "              \n",
        "          pred.extend(model.tokenizer.batch_decode(outputs, skip_special_tokens=True))\n",
        "    return pred, pred_rat\n",
        "\n",
        "\n",
        "def evaluate_model(model, df, params):\n",
        "    \"\"\"\n",
        "    Inputs:\n",
        "      - Model\n",
        "      - Parameters\n",
        "\n",
        "    Returns:\n",
        "      - Test Dataset with Predictions\n",
        "    \"\"\"\n",
        "    warnings.filterwarnings('ignore')\n",
        "    seed = params['seed']\n",
        "    fix_random(seed=seed)\n",
        "\n",
        "    # Split DataFrame\n",
        "    _, df_val, df_test = split_data(df, seed=seed)\n",
        "\n",
        "    # Compute History\n",
        "    val_data  = preprocess_data( df_val,  hist_length=params['history_length'])\n",
        "    test_data = preprocess_data(df_test,  hist_length=params['history_length'])\n",
        "\n",
        "    # Tokenize Data\n",
        "    val_dataset  = TokenizedDataset( val_data,  model, history=params['history'])\n",
        "    test_dataset = TokenizedDataset(test_data,  model, history=params['history'])\n",
        "    \n",
        "    # Create DataLoader\n",
        "    val_loader  = DataLoader( val_dataset, batch_size=params['batch_size'], drop_last=False, shuffle=False, num_workers=2, pin_memory=True)\n",
        "    test_loader = DataLoader(test_dataset, batch_size=params['batch_size'], drop_last=False, shuffle=False, num_workers=2, pin_memory=True)\n",
        "\n",
        "    # Predict - VAL\n",
        "    pred, pred_rat = predict(model, val_loader)\n",
        "\n",
        "    # F1-score - VAL\n",
        "    f1_scores = list(map(lambda p, a: squad.compute_f1(p, a), pred, val_data['answer']))\n",
        "    val_data['f1_score'] = f1_scores\n",
        "    val_data['pred_answer'] = pred\n",
        "    val_data['pred_rationale'] = pred_rat\n",
        "    print(f\"Model: {model.name} - History: {params['history']} - Seed: {seed}\\n\")\n",
        "    print(f\"\\t-[Val data]  Avg F1-score = {np.mean(f1_scores):.4f}\\n\")\n",
        "\n",
        "    # Predict - TEST\n",
        "    pred, pred_rat = predict(model, test_loader)\n",
        "\n",
        "    # F1-score - TEST\n",
        "    f1_scores = list(map(lambda p, a: squad.compute_f1(p, a), pred, test_data['answer']))\n",
        "    test_data['f1_score'] = f1_scores\n",
        "    test_data['pred_answer'] = pred\n",
        "    test_data['pred_rationale'] = pred_rat\n",
        "    print(f\"\\t-[Test data] Avg F1-score = {np.mean(f1_scores):.4f}\\n\")\n",
        "\n",
        "    #test_data = shuffle(pd.DataFrame(test_data), random_state=seed)\n",
        "    #test_data.reset_index(drop=True, inplace=True)\n",
        "    return test_data"
      ],
      "metadata": {
        "id": "QyCGqCgiZMEa"
      },
      "execution_count": 27,
      "outputs": []
    },
    {
      "cell_type": "markdown",
      "source": [
        "## [Task 4] Question generation with text passage $P$ and question $Q$\n",
        "\n",
        "We want to define $f_\\theta(P, Q)$. \n",
        "\n",
        "Write your own script to implement $f_\\theta$ for each model: M1 and M2.\n",
        "\n",
        "#### Formulation\n",
        "\n",
        "Consider a dialogue on text passage $P$. \n",
        "\n",
        "For each question $Q_i$ at dialogue turn $i$, your model should take $P$ and $Q_i$ and generate $A_i$."
      ],
      "metadata": {
        "id": "3cabc3d9",
        "papermill": {
          "duration": 0.019392,
          "end_time": "2022-12-29T15:38:17.555772",
          "exception": false,
          "start_time": "2022-12-29T15:38:17.536380",
          "status": "completed"
        },
        "tags": []
      }
    },
    {
      "cell_type": "code",
      "source": [
        "def dialogue_without_history(model, passage, qa_pairs, indices):\n",
        "    \"\"\"\n",
        "    Inputs:\n",
        "      - Trained model\n",
        "      - Passage\n",
        "      - List of Question-Answer pairs [(Q0, A0), ..., (Qn, An)]\n",
        "\n",
        "    Return:\n",
        "      - Dialogue's f1 score\n",
        "      - Predictions\n",
        "      - Rationale ground truth pos and predicted pos (start/end idx)\n",
        "    \"\"\"\n",
        "    device = torch.device('cuda' if torch.cuda.is_available() else 'cpu')\n",
        "\n",
        "    # At each turn: 1-Retrieve Q and A; 2-Tokenize; 3-Predict\n",
        "    answers = []; preds = []; \n",
        "    tok_pos = []; preds_tok_pos = []\n",
        "    for idx, qa_pair in enumerate(qa_pairs):\n",
        "        \n",
        "        # Retrieve\n",
        "        question, answer = qa_pair\n",
        "        start_idx, end_idx = indices[idx]\n",
        "\n",
        "        # Tokenize\n",
        "        input_encoding = model.tokenizer(question, passage, padding='max_length', truncation=True, max_length=512)\n",
        "        inputs = {'input_ids': torch.tensor([input_encoding.input_ids], dtype=torch.int64).to(device),\n",
        "                  'attention_mask': torch.tensor([input_encoding.attention_mask], dtype=torch.int64).to(device)}\n",
        "\n",
        "        # Predict\n",
        "        with torch.no_grad():\n",
        "            pred, _, pred_tok_pos = model.generate(inputs)\n",
        "            pred = model.tokenizer.batch_decode(pred, skip_special_tokens=True)[0]\n",
        "\n",
        "        answers.append(answer)\n",
        "        preds.append(pred)\n",
        "\n",
        "        tok_pos.append(find_indexes(model.tokenizer, passage, start_idx, end_idx, 512, model.name))\n",
        "        preds_tok_pos.append((pred_tok_pos[0][0], pred_tok_pos[1][0]))\n",
        "\n",
        "    # Compute F1 at the dialogue level\n",
        "    f1_scores = list(map(lambda p, a: squad.compute_f1(p, a), preds, answers))\n",
        "\n",
        "    # Compute F1 at the dialogue level\n",
        "    dialogue_f1 = np.mean(f1_scores)\n",
        "\n",
        "    return dialogue_f1, (preds, f1_scores), (tok_pos, preds_tok_pos)"
      ],
      "metadata": {
        "id": "32KpVqvwCUX6"
      },
      "execution_count": 28,
      "outputs": []
    },
    {
      "cell_type": "markdown",
      "source": [
        "## [Task 5] Question generation with text passage $P$, question $Q$ and dialogue history $H$\n",
        "\n",
        "We want to define $f_\\theta(P, Q, H)$. Write your own script to implement $f_\\theta$ for each model: M1 and M2.\n",
        "\n",
        "#### Formulation\n",
        "\n",
        "Consider a dialogue on text passage $P$. \n",
        "\n",
        "For each question $Q_i$ at dialogue turn $i$, your model should take $P$, $Q_i$, and $H = \\{ Q_0, A_0, \\dots, Q_{i-1}, A_{i-1} \\}$ to generate $A_i$."
      ],
      "metadata": {
        "id": "7adfc51e",
        "papermill": {
          "duration": 0.197729,
          "end_time": "2022-12-30T02:18:17.698190",
          "exception": false,
          "start_time": "2022-12-30T02:18:17.500461",
          "status": "completed"
        },
        "tags": []
      }
    },
    {
      "cell_type": "code",
      "source": [
        "def dialogue_with_history(model, passage, qa_pairs, indices, hist_length):\n",
        "    \"\"\"\n",
        "    Inputs:\n",
        "      - Trained model\n",
        "      - Passage\n",
        "      - List of Question-Answer pairs [(Q0, A0), ..., (Qn, An)]\n",
        "      - History length\n",
        "\n",
        "    Return:\n",
        "      - Dialogue's f1 score\n",
        "      - Predictions\n",
        "      - Rationale ground truth pos and predicted pos (start/end idx)\n",
        "    \"\"\"\n",
        "    device = torch.device('cuda' if torch.cuda.is_available() else 'cpu')\n",
        "\n",
        "    # At each turn: 1-Retrieve Q and A; 2-Tokenize; 3-Predict; 4-Save History\n",
        "    answers = []; preds = []; history = []; \n",
        "    tok_pos = []; preds_tok_pos = []\n",
        "    for idx, qa_pair in enumerate(qa_pairs):\n",
        "\n",
        "        # Retrieve\n",
        "        question, answer = qa_pair\n",
        "        start_idx, end_idx = indices[idx]\n",
        "\n",
        "        # Tokenize\n",
        "        input_encoding = model.tokenizer(''.join(history[max(0, idx-hist_length):idx]) + question, passage, padding='max_length', truncation=True, max_length=512)\n",
        "        inputs = {'input_ids': torch.tensor([input_encoding.input_ids], dtype=torch.int64).to(device),\n",
        "                  'attention_mask': torch.tensor([input_encoding.attention_mask], dtype=torch.int64).to(device)}\n",
        "\n",
        "        # Predict\n",
        "        with torch.no_grad():\n",
        "            pred, _, pred_tok_pos = model.generate(inputs)\n",
        "            pred = model.tokenizer.batch_decode(pred, skip_special_tokens=True)[0]\n",
        "\n",
        "        # Save History\n",
        "        history.append(question + ' ' + pred + '. ')\n",
        "        answers.append(answer)\n",
        "        preds.append(pred)\n",
        "\n",
        "        tok_pos.append(find_indexes(model.tokenizer, passage, start_idx, end_idx, 512, model.name))\n",
        "        preds_tok_pos.append((pred_tok_pos[0][0], pred_tok_pos[1][0]))\n",
        "        \n",
        "    # Compute F1 at the dialogue level\n",
        "    f1_scores = list(map(lambda p, a: squad.compute_f1(p, a), preds, answers))\n",
        "\n",
        "    # Compute F1 at the dialogue level\n",
        "    dialogue_f1 = np.mean(f1_scores)\n",
        "\n",
        "    return dialogue_f1, (preds, f1_scores), (tok_pos, preds_tok_pos)"
      ],
      "metadata": {
        "id": "Jg52iLIUAdBy"
      },
      "execution_count": 29,
      "outputs": []
    },
    {
      "cell_type": "markdown",
      "source": [
        "## [Task 6] Train and evaluate $f_\\theta(P, Q)$ and $f_\\theta(P, Q, H)$\n",
        "\n",
        "Write your own script to train and evaluate your $f_\\theta(P, Q)$ and $f_\\theta(P, Q, H)$ models.\n",
        "\n",
        "### Instructions\n",
        "\n",
        "* Perform multiple train/evaluation seed runs: [42, 2022, 1337].$^1$\n",
        "* Evaluate your models with the following metrics: SQUAD F1-score.$^2$\n",
        "* Fine-tune each transformer-based models for **3 epochs**.\n",
        "* Report evaluation SQUAD F1-score computed on the validation and test sets.\n",
        "\n",
        "$^1$ Remember what we said about code reproducibility in Tutorial 2!\n",
        "\n",
        "$^2$ You can use ```allennlp``` python package for a quick implementation of SQUAD F1-score: ```from allennlp_models.rc.tools import squad```. "
      ],
      "metadata": {
        "id": "9f597422",
        "papermill": {
          "duration": 0.193326,
          "end_time": "2022-12-30T02:18:19.016597",
          "exception": false,
          "start_time": "2022-12-30T02:18:18.823271",
          "status": "completed"
        },
        "tags": []
      }
    },
    {
      "cell_type": "code",
      "source": [
        "model = M1(finetuned=False, tie_encoder_decoder=False)\n",
        "#model = M2(finetuned=False, tie_encoder_decoder=False)\n",
        "\n",
        "params = {'history'       : False,\n",
        "          'history_length': 0,\n",
        "\n",
        "          # Training Settings\n",
        "          'batch_size': 4,\n",
        "          'gradient_accumulation': 1,\n",
        "          'epochs'    : 3,\n",
        "          'lr'        : 5e-5,\n",
        "\n",
        "          # Teacher Forcing (Linear Decay Params)\n",
        "          'teacher_start': 1,\n",
        "          'teacher_end'  : 0.3,\n",
        "\n",
        "          'monitor': False, # Wandb Monitoring\n",
        "          'seed'   : 2022,\n",
        "          }\n",
        "\n",
        "model_path = train_model(model, df, params)"
      ],
      "metadata": {
        "execution": {
          "iopub.execute_input": "2022-12-29T15:38:17.649283Z",
          "iopub.status.busy": "2022-12-29T15:38:17.648519Z",
          "iopub.status.idle": "2022-12-30T02:18:17.297118Z",
          "shell.execute_reply": "2022-12-30T02:18:17.295951Z"
        },
        "id": "3ca28657",
        "papermill": {
          "duration": 38399.670247,
          "end_time": "2022-12-30T02:18:17.299487",
          "exception": false,
          "start_time": "2022-12-29T15:38:17.629240",
          "status": "completed"
        },
        "tags": []
      },
      "execution_count": null,
      "outputs": []
    },
    {
      "cell_type": "code",
      "source": [
        "import matplotlib.pyplot as plt\n",
        "from google.colab import drive\n",
        "drive.mount('/content/drive')"
      ],
      "metadata": {
        "colab": {
          "base_uri": "https://localhost:8080/"
        },
        "id": "ot6kJ2Gv71jP",
        "outputId": "7fa2eab5-8bd7-4df8-c363-0e5b4aebec5f"
      },
      "execution_count": 30,
      "outputs": [
        {
          "output_type": "stream",
          "name": "stdout",
          "text": [
            "Mounted at /content/drive\n"
          ]
        }
      ]
    },
    {
      "cell_type": "code",
      "source": [
        "!cp -r '/content/drive/MyDrive/Models' 'Models'  # Load Models"
      ],
      "metadata": {
        "id": "uhI6crIkBWeJ"
      },
      "execution_count": 31,
      "outputs": []
    },
    {
      "cell_type": "code",
      "source": [
        "model_path = 'Models/bert-0-42'\n",
        "\n",
        "pred_dataset = evaluate_model(torch.load(model_path), df, {'history': False, 'history_length': 0, 'seed': 42, 'batch_size': 32})"
      ],
      "metadata": {
        "id": "HL5KpR4oggxJ",
        "colab": {
          "base_uri": "https://localhost:8080/"
        },
        "outputId": "3c25b7bd-dcdb-4449-a919-ba94f55d3edd"
      },
      "execution_count": null,
      "outputs": [
        {
          "output_type": "stream",
          "name": "stderr",
          "text": []
        },
        {
          "output_type": "stream",
          "name": "stdout",
          "text": [
            "Model: BERTTiny - History: False - Seed: 42\n",
            "\n",
            "\t-[Val data] Avg F1-score = 0.2209\n",
            "\n"
          ]
        },
        {
          "output_type": "stream",
          "name": "stderr",
          "text": []
        },
        {
          "output_type": "stream",
          "name": "stdout",
          "text": [
            "\t-[Test data] Avg F1-score = 0.2215\n",
            "\n"
          ]
        }
      ]
    },
    {
      "cell_type": "markdown",
      "source": [
        "## [Task 7] Error Analysis\n",
        "\n",
        "Perform a simple and short error analysis as follows:\n",
        "* Group dialogues by ```source``` and report the worst 5 model errors for each source (w.r.t. SQUAD F1-score).\n",
        "* Inspect observed results and try to provide some comments (e.g., do the models make errors when faced with a particular question type?)$^1$\n",
        "\n",
        "$^1$ Check the [paper](https://arxiv.org/pdf/1808.07042.pdf) for some valuable information about question/answer types (e.g., Table 6, Table 8) "
      ],
      "metadata": {
        "id": "158c2acd",
        "papermill": {
          "duration": 0.197203,
          "end_time": "2022-12-30T02:18:19.411030",
          "exception": false,
          "start_time": "2022-12-30T02:18:19.213827",
          "status": "completed"
        },
        "tags": []
      }
    },
    {
      "cell_type": "code",
      "source": [
        "grouped_df = df_test.groupby(by=['source'])\n",
        "print(f'Number of sources: {len(grouped_df)}')\n",
        "print(f'Source names: {\"; \".join([key for key, _ in grouped_df])}.')"
      ],
      "metadata": {
        "colab": {
          "base_uri": "https://localhost:8080/"
        },
        "id": "bIPo69HOiSEl",
        "outputId": "6d810260-8b29-4ff7-d26d-f80749a789e0"
      },
      "execution_count": 33,
      "outputs": [
        {
          "output_type": "stream",
          "name": "stdout",
          "text": [
            "Number of sources: 5\n",
            "Source names: cnn; gutenberg; mctest; race; wikipedia.\n"
          ]
        }
      ]
    },
    {
      "cell_type": "code",
      "source": [
        "plt.figure(figsize=(40,5))\n",
        "i = 1\n",
        "for source, df in grouped_df:\n",
        "    plt.subplot(1, 5, i)\n",
        "    plt.hist(df.loc[:, 'QA_length'], bins=range(5, 30, 1))\n",
        "    plt.xlim((5, 30))\n",
        "    plt.ylim((0, 40))\n",
        "    plt.title(f\"{source.upper()} Conversation Length\")\n",
        "    i += 1\n",
        "plt.show()"
      ],
      "metadata": {
        "colab": {
          "base_uri": "https://localhost:8080/",
          "height": 356
        },
        "id": "xw3nWSx2jfWd",
        "outputId": "bb1cd6fb-e1b2-4a30-db89-160a95c4aac1"
      },
      "execution_count": 92,
      "outputs": [
        {
          "output_type": "display_data",
          "data": {
            "text/plain": [
              "<Figure size 2880x360 with 5 Axes>"
            ],
            "image/png": "[encoded data removed]"
          },
          "metadata": {
            "needs_background": "light"
          }
        }
      ]
    },
    {
      "cell_type": "code",
      "source": [
        "def test_conversation(models, df):\n",
        "    \"\"\"\n",
        "    Inputs:\n",
        "      - Trained Models\n",
        "      - Dataframe containing dialogues\n",
        "\n",
        "    Return:\n",
        "      - Dataframe with f1 scores computed on dialogues\n",
        "    \"\"\"\n",
        "    dialogues = []\n",
        "    for _, row in tqdm(df.iterrows(), total=df.shape[0], leave=False):\n",
        "        passage   = row['story']\n",
        "        questions = [q['input_text'] for q in row['questions']]\n",
        "        answers   = [a['input_text'] for a in row['answers']]\n",
        "        qa_pairs = list(zip(questions, answers))\n",
        "\n",
        "        rationales = [a['rationale'] for a in row['answers']]\n",
        "        indices = [(a['span_start'], a['span_end']) for a in row['answers']]\n",
        "        \n",
        "        dialogue_f1_scores = []  # f1-score of the whole dialogue\n",
        "        answers_f1_scores = []   # f1-score of single answers within the dialogue\n",
        "        preds = []; preds_tok_pos = []\n",
        "        for model_name, (model, params) in models.items():\n",
        "            model.eval()\n",
        "            if params['history_length'] > 0 and params['history'] == True:\n",
        "                dialogue_f1, (pred, f1_scores), (tok_pos, pred_tok_pos) = dialogue_with_history(model, passage, qa_pairs, indices, params['history_length'])\n",
        "            else:\n",
        "                dialogue_f1, (pred, f1_scores), (tok_pos, pred_tok_pos) = dialogue_without_history(model, passage, qa_pairs, indices)\n",
        "            dialogue_f1_scores.append(dialogue_f1)\n",
        "            answers_f1_scores.append(f1_scores)\n",
        "            preds.append(pred)\n",
        "            preds_tok_pos.append(pred_tok_pos)\n",
        "      \n",
        "        dialogue = {'source'       : row['source'],\n",
        "                    'rationales'   : rationales, \n",
        "                    'questions'    : questions,\n",
        "                    'answers'      : answers,\n",
        "                    'preds'        : list(zip(*preds)),\n",
        "                    'tok_pos'      : tok_pos,\n",
        "                    'pred_tok_pos' : preds_tok_pos,\n",
        "                    'answers_f1_scores' : answers_f1_scores,\n",
        "                    'dialogue_f1_score' : np.mean(dialogue_f1_scores)}\n",
        "\n",
        "        dialogues.append(dialogue)\n",
        "    return pd.DataFrame(dialogues)\n",
        "\n",
        "\n",
        "def source_eval(models_folder, model_type, with_history, df):\n",
        "    \"\"\"\n",
        "    Inputs:\n",
        "      - Folder containing the models\n",
        "      - Model type ('bert' or 'roberta')\n",
        "      - History selection (True or False)\n",
        "      - DataFrame containing dialogues\n",
        "\n",
        "    Returns:\n",
        "      - Five worst dialogues\n",
        "    \"\"\"\n",
        "    warnings.filterwarnings('ignore')\n",
        "    device = torch.device('cuda' if torch.cuda.is_available() else 'cpu')\n",
        "\n",
        "    models = {}\n",
        "    for model_path in os.listdir(models_folder):\n",
        "        seed = int(model_path.split('-')[-1])\n",
        "        history_length = int(model_path.split('-')[-2])\n",
        "        history = True if history_length > 0 else False\n",
        "\n",
        "        if model_path.split('-')[0] != model_type or history != with_history:\n",
        "            continue\n",
        "        \n",
        "        params = {'seed': seed, 'history_length': history_length, 'history': history}\n",
        "        models.update({model_path: (torch.load(models_folder + model_path).to(device), params)})\n",
        "    \n",
        "    dialogues = test_conversation(models, df)\n",
        "    dialogues = dialogues.sort_values(by='dialogue_f1_score', ascending=True, inplace=False).iloc[:5, :].reset_index(drop=True)    \n",
        "    return dialogues\n",
        "\n",
        "\n",
        "def print_worst_answers(dialogues):\n",
        "    \"\"\"\n",
        "    Inputs:\n",
        "      - Five worst dialogues\n",
        "\n",
        "    Prints:\n",
        "      - Worst answer for each dialogue (random tie breaking)\n",
        "    \"\"\"\n",
        "    worst_answers_idx = [np.random.choice(np.flatnonzero(np.mean(row['answers_f1_scores'], axis=0) == np.mean(row['answers_f1_scores'], axis=0).min())) for _, row in dialogues.iterrows()]\n",
        "    #worst_answers_idx = [np.argmin(np.mean(row['answers_f1_scores'], axis=0), axis=-1) for _, row in dialogues.iterrows()] # Tie -> first idx\n",
        "    y_step = [0, 0, 1, 0]\n",
        "    for idx, row in dialogues.iterrows():\n",
        "        print(f\"\\n[SQUAD F1-score -> {np.mean([row['answers_f1_scores'][model][worst_answers_idx[idx]] for model in range(3)]):.4f}]\")\n",
        "        rationale = row['rationales'][worst_answers_idx[idx]]\n",
        "        question  = row['questions'][worst_answers_idx[idx]]\n",
        "        answer    = row['answers'][worst_answers_idx[idx]]\n",
        "        preds     = row['preds'][worst_answers_idx[idx]]\n",
        "        print('\\nPassage    \\t-> ', end='')\n",
        "        print(rationale.replace('\\n',  ' '))\n",
        "        print('Question   \\t-> ', end='')\n",
        "        print(question)\n",
        "        print('Answer     \\t-> ', end='')\n",
        "        print(answer)\n",
        "        print('Predictions\\t-> ', end='')\n",
        "        print('1: ' + preds[0], end='     ')\n",
        "        print('2: ' + preds[1], end='     ')\n",
        "        print('3: ' + preds[2], end='\\n\\n')\n",
        "\n",
        "        plt.figure(figsize=(10,1))\n",
        "        plt.step(tuple2step(row['tok_pos'][worst_answers_idx[idx]]), y_step, c='black')\n",
        "        plt.step(tuple2step(row['pred_tok_pos'][0][worst_answers_idx[idx]]), y_step, c='red', linestyle='dotted')\n",
        "        plt.step(tuple2step(row['pred_tok_pos'][1][worst_answers_idx[idx]]), y_step, c='blue', linestyle='dotted')\n",
        "        plt.step(tuple2step(row['pred_tok_pos'][2][worst_answers_idx[idx]]), y_step, c='lime', linestyle='dotted')\n",
        "        plt.axis('off')\n",
        "        plt.legend([\"ground truth\", \"pred 1\", \"pred 2\", \"pred 3\"], loc =\"lower right\")\n",
        "        plt.title('Rationale Tokens')\n",
        "        plt.show()\n",
        "        print('\\n')\n",
        "\n",
        "\n",
        "def print_worst_dialogues(dialogues):\n",
        "    \"\"\"\n",
        "    Inputs:\n",
        "      - five worst dialogues\n",
        "\n",
        "    Prints:\n",
        "      - every answer for every dialogue\n",
        "    \"\"\"\n",
        "    y_step = [0, 0, 1, 0]\n",
        "    for idx, row in dialogues.iterrows():\n",
        "        print('='*100)\n",
        "        print('\\nPASSAGE ' + str(idx) + '  [f1-score: ' + str(round(row['f1_score'], 4)) + ']', end='\\n\\n')\n",
        "        turns = len(row['questions'])\n",
        "        for t in range(turns):\n",
        "            print(f'Turn {t}')\n",
        "            print('Passage    \\t-> ', end='')\n",
        "            print(row['rationales'][t].replace('\\n',  ' '))\n",
        "            print('Question   \\t-> ', end='')\n",
        "            print(row['questions'][t])\n",
        "            print('Answer     \\t-> ', end='')\n",
        "            print(row['answers'][t])\n",
        "            print('Predictions\\t-> ', end='')\n",
        "            print('1: ' + row['preds'][t][0], end='     ')\n",
        "            print('2: ' + row['preds'][t][1], end='     ')\n",
        "            print('3: ' + row['preds'][t][2], end='\\n\\n')\n",
        "\n",
        "            plt.figure(figsize=(10,1))\n",
        "            plt.step(tuple2step(dialogues['tok_pos'][idx][t]), y_step, c='black')\n",
        "            plt.step(tuple2step(dialogues['pred_tok_pos'][idx][0][t]), y_step, c='red', linestyle='dotted')\n",
        "            plt.step(tuple2step(dialogues['pred_tok_pos'][idx][1][t]), y_step, c='blue', linestyle='dotted')\n",
        "            plt.step(tuple2step(dialogues['pred_tok_pos'][idx][2][t]), y_step, c='lime', linestyle='dotted')\n",
        "            plt.axis('off')\n",
        "            plt.legend([\"ground truth\", \"pred 1\", \"pred 2\", \"pred 3\"], loc =\"lower right\")\n",
        "            plt.title('Rationale Tokens')\n",
        "            plt.show()\n",
        "            print('\\n\\n')\n",
        "        print('='*100)\n",
        "\n",
        "\n",
        "def tuple2step(tok_pos):\n",
        "    tok_pos = list(tok_pos)\n",
        "    tok_pos.insert(0, 0)\n",
        "    tok_pos.append(512)\n",
        "    return tok_pos\n",
        "\n",
        "\n",
        "def print_source_name(source_name, num_asterix=100):\n",
        "    num_char = len(source_name)\n",
        "    print('\\n')\n",
        "    print(f'#'*num_asterix)\n",
        "    print('#'*(((num_asterix-2) - num_char)//2), end=' ')\n",
        "    print(source_name.upper(), end=' ')\n",
        "    print('#'*((num_asterix-2) - ((num_asterix-2) - num_char)//2 - num_char))\n",
        "    print(f'#'*num_asterix, end='\\n\\n')"
      ],
      "metadata": {
        "id": "Gjv_vx32M8Yl"
      },
      "execution_count": 105,
      "outputs": []
    },
    {
      "cell_type": "markdown",
      "source": [
        "### BERTTiny - without history"
      ],
      "metadata": {
        "id": "k058C2bTjFMu"
      }
    },
    {
      "cell_type": "code",
      "source": [
        "models_folder = 'Models/'\n",
        "model_type = 'bert'\n",
        "with_history = False\n",
        "\n",
        "for source, source_df in grouped_df:\n",
        "    print_source_name(source)\n",
        "\n",
        "    dialogues = source_eval(models_folder, model_type, with_history, source_df)   # Extract 5 worst dialogues \n",
        "    print_worst_answers(dialogues)                                                # Print worst answer for each dialogue (random tie breaking)"
      ],
      "metadata": {
        "colab": {
          "base_uri": "https://localhost:8080/",
          "height": 1000
        },
        "id": "flvtMG1KCrPu",
        "outputId": "9d4c7927-c1d8-407f-f48d-1fcc55d4b233"
      },
      "execution_count": 107,
      "outputs": [
        {
          "output_type": "stream",
          "name": "stdout",
          "text": [
            "\n",
            "\n",
            "####################################################################################################\n",
            "############################################### CNN ################################################\n",
            "####################################################################################################\n",
            "\n"
          ]
        },
        {
          "output_type": "stream",
          "name": "stderr",
          "text": [
            "                                                 "
          ]
        },
        {
          "output_type": "stream",
          "name": "stdout",
          "text": [
            "\n",
            "[SQUAD F1-score -> 0.0000]\n",
            "\n",
            "Passage    \t-> Thirty-eight year old Mayweather (47-0, 26 knockouts), who favors the moniker \"The Money Man\" or \"TBE\" (The Best Ever), boasts nearly five million Instagram followers, 5.65 million followers on Twitter and 9.2 million Facebook likes. \n",
            "Question   \t-> What is Mayweathers nick name?\n",
            "Answer     \t-> 1 is the money man\n",
            "Predictions\t-> 1: diego pacquiao     2: tom pacquiao     3: nick\n",
            "\n"
          ]
        },
        {
          "output_type": "stream",
          "name": "stderr",
          "text": [
            "\r"
          ]
        },
        {
          "output_type": "display_data",
          "data": {
            "text/plain": [
              "<Figure size 720x72 with 1 Axes>"
            ],
            "image/png": "[encoded data removed]"
          },
          "metadata": {
            "needs_background": "light"
          }
        },
        {
          "output_type": "stream",
          "name": "stdout",
          "text": [
            "\n",
            "\n",
            "\n",
            "[SQUAD F1-score -> 0.0000]\n",
            "\n",
            "Passage    \t-> Redmond O'Neal was on a day pass away from the Pasadena, California, sober living facility where he is undergoing court-ordered drug rehab\n",
            "Question   \t-> Why is he there?\n",
            "Answer     \t-> he is undergoing court-ordered drug rehab\n",
            "Predictions\t-> 1: because they's here     2: his mother's death     3: he's so awesome\n",
            "\n"
          ]
        },
        {
          "output_type": "display_data",
          "data": {
            "text/plain": [
              "<Figure size 720x72 with 1 Axes>"
            ],
            "image/png": "[encoded data removed]"
          },
          "metadata": {
            "needs_background": "light"
          }
        },
        {
          "output_type": "stream",
          "name": "stdout",
          "text": [
            "\n",
            "\n",
            "\n",
            "[SQUAD F1-score -> 0.0000]\n",
            "\n",
            "Passage    \t-> Der Spiegel identifies the soldiers as Spc. Jeremy Morlock \n",
            "Question   \t-> What is the name of one of the soldiers?\n",
            "Answer     \t-> Jeremy Morlock\n",
            "Predictions\t-> 1: u. s. soldiers     2: the u. s. police department     3: the german news agency\n",
            "\n"
          ]
        },
        {
          "output_type": "display_data",
          "data": {
            "text/plain": [
              "<Figure size 720x72 with 1 Axes>"
            ],
            "image/png": "[encoded data removed]"
          },
          "metadata": {
            "needs_background": "light"
          }
        },
        {
          "output_type": "stream",
          "name": "stdout",
          "text": [
            "\n",
            "\n",
            "\n",
            "[SQUAD F1-score -> 0.0000]\n",
            "\n",
            "Passage    \t-> David Duerson shot himself in the chest\n",
            "Question   \t-> how did David die?\n",
            "Answer     \t-> shot himself in the chest\n",
            "Predictions\t-> 1: he's brain damage     2: his brain damage     3: 50\n",
            "\n"
          ]
        },
        {
          "output_type": "display_data",
          "data": {
            "text/plain": [
              "<Figure size 720x72 with 1 Axes>"
            ],
            "image/png": "[encoded data removed]"
          },
          "metadata": {
            "needs_background": "light"
          }
        },
        {
          "output_type": "stream",
          "name": "stdout",
          "text": [
            "\n",
            "\n",
            "\n",
            "[SQUAD F1-score -> 0.0000]\n",
            "\n",
            "Passage    \t-> So you were born in Mexico but grew up in Kenya.  \n",
            "Question   \t-> Where was she raised?\n",
            "Answer     \t-> Kenya\n",
            "Predictions\t-> 1: the best supporting role in last year     2: california     3: ln\n",
            "\n"
          ]
        },
        {
          "output_type": "display_data",
          "data": {
            "text/plain": [
              "<Figure size 720x72 with 1 Axes>"
            ],
            "image/png": "[encoded data removed]"
          },
          "metadata": {
            "needs_background": "light"
          }
        },
        {
          "output_type": "stream",
          "name": "stdout",
          "text": [
            "\n",
            "\n",
            "\n",
            "\n",
            "####################################################################################################\n",
            "############################################ GUTENBERG #############################################\n",
            "####################################################################################################\n",
            "\n"
          ]
        },
        {
          "output_type": "stream",
          "name": "stderr",
          "text": [
            "                                                 "
          ]
        },
        {
          "output_type": "stream",
          "name": "stdout",
          "text": [
            "\n",
            "[SQUAD F1-score -> 0.0000]\n",
            "\n",
            "Passage    \t-> He was sure that Barbara had loved this man\n",
            "Question   \t-> why is that?\n",
            "Answer     \t-> Barbara had loved this man\n",
            "Predictions\t-> 1: to the little island     2: a letter     3: his rashed over again\n",
            "\n"
          ]
        },
        {
          "output_type": "stream",
          "name": "stderr",
          "text": [
            "\r"
          ]
        },
        {
          "output_type": "display_data",
          "data": {
            "text/plain": [
              "<Figure size 720x72 with 1 Axes>"
            ],
            "image/png": "[encoded data removed]"
          },
          "metadata": {
            "needs_background": "light"
          }
        },
        {
          "output_type": "stream",
          "name": "stdout",
          "text": [
            "\n",
            "\n",
            "\n",
            "[SQUAD F1-score -> 0.0000]\n",
            "\n",
            "Passage    \t-> American recluse\n",
            "Question   \t-> What kind of person was Father Esteban?\n",
            "Answer     \t-> American recluse\n",
            "Predictions\t-> 1: aguil d. c.     2: a letter     3: monteban\n",
            "\n"
          ]
        },
        {
          "output_type": "display_data",
          "data": {
            "text/plain": [
              "<Figure size 720x72 with 1 Axes>"
            ],
            "image/png": "[encoded data removed]"
          },
          "metadata": {
            "needs_background": "light"
          }
        },
        {
          "output_type": "stream",
          "name": "stdout",
          "text": [
            "\n",
            "\n",
            "\n",
            "[SQUAD F1-score -> 0.0000]\n",
            "\n",
            "Passage    \t-> he might still win Miriam\n",
            "Question   \t-> And her name?\n",
            "Answer     \t-> Miriam\n",
            "Predictions\t-> 1: marcus     2: her mother     3: judgment\n",
            "\n"
          ]
        },
        {
          "output_type": "display_data",
          "data": {
            "text/plain": [
              "<Figure size 720x72 with 1 Axes>"
            ],
            "image/png": "[encoded data removed]"
          },
          "metadata": {
            "needs_background": "light"
          }
        },
        {
          "output_type": "stream",
          "name": "stdout",
          "text": [
            "\n",
            "\n",
            "\n",
            "[SQUAD F1-score -> 0.0000]\n",
            "\n",
            "Passage    \t-> I move that we keep our eyes open for some place where we can take it easy and have lunch\n",
            "Question   \t-> What did Andy want them to watch for?\n",
            "Answer     \t-> a place to take it easy and have lunch\n",
            "Predictions\t-> 1: his watch.     2: on horseback     3: yes\n",
            "\n"
          ]
        },
        {
          "output_type": "display_data",
          "data": {
            "text/plain": [
              "<Figure size 720x72 with 1 Axes>"
            ],
            "image/png": "[encoded data removed]"
          },
          "metadata": {
            "needs_background": "light"
          }
        },
        {
          "output_type": "stream",
          "name": "stdout",
          "text": [
            "\n",
            "\n",
            "\n",
            "[SQUAD F1-score -> 0.0000]\n",
            "\n",
            "Passage    \t-> the Excommunication, for some weeks arrived from Rome, was solemnly published in the Duomo\n",
            "Question   \t-> Where was the Excommunication published?\n",
            "Answer     \t-> in the Duomo\n",
            "Predictions\t-> 1: the new life of savona     2: new york     3: rome\n",
            "\n"
          ]
        },
        {
          "output_type": "display_data",
          "data": {
            "text/plain": [
              "<Figure size 720x72 with 1 Axes>"
            ],
            "image/png": "[encoded data removed]"
          },
          "metadata": {
            "needs_background": "light"
          }
        },
        {
          "output_type": "stream",
          "name": "stdout",
          "text": [
            "\n",
            "\n",
            "\n",
            "\n",
            "####################################################################################################\n",
            "############################################## MCTEST ##############################################\n",
            "####################################################################################################\n",
            "\n"
          ]
        },
        {
          "output_type": "stream",
          "name": "stderr",
          "text": [
            "                                                 "
          ]
        },
        {
          "output_type": "stream",
          "name": "stdout",
          "text": [
            "\n",
            "[SQUAD F1-score -> 0.0000]\n",
            "\n",
            "Passage    \t-> paid well, both in potatoes, carrots and money\n",
            "Question   \t-> How much money do they get paid?\n",
            "Answer     \t-> paid well\n",
            "Predictions\t-> 1: millions     2: two     3: potatoes\n",
            "\n"
          ]
        },
        {
          "output_type": "stream",
          "name": "stderr",
          "text": [
            "\r"
          ]
        },
        {
          "output_type": "display_data",
          "data": {
            "text/plain": [
              "<Figure size 720x72 with 1 Axes>"
            ],
            "image/png": "[encoded data removed]"
          },
          "metadata": {
            "needs_background": "light"
          }
        },
        {
          "output_type": "stream",
          "name": "stdout",
          "text": [
            "\n",
            "\n",
            "\n",
            "[SQUAD F1-score -> 0.0000]\n",
            "\n",
            "Passage    \t-> They then took a boat to Africa and Asia\n",
            "Question   \t-> where'd they go next?\n",
            "Answer     \t-> Africa\n",
            "Predictions\t-> 1: the mountains.     2: south america     3: the mountains\n",
            "\n"
          ]
        },
        {
          "output_type": "display_data",
          "data": {
            "text/plain": [
              "<Figure size 720x72 with 1 Axes>"
            ],
            "image/png": "[encoded data removed]"
          },
          "metadata": {
            "needs_background": "light"
          }
        },
        {
          "output_type": "stream",
          "name": "stdout",
          "text": [
            "\n",
            "\n",
            "\n",
            "[SQUAD F1-score -> 0.0000]\n",
            "\n",
            "Passage    \t->  His mom had packed them a lunch\n",
            "Question   \t-> What did his mom do?\n",
            "Answer     \t-> Packed them a lunch\n",
            "Predictions\t-> 1: he sent peanut butter     2: ate peanut butter and jelly sandwiches     3: put his mom\n",
            "\n"
          ]
        },
        {
          "output_type": "display_data",
          "data": {
            "text/plain": [
              "<Figure size 720x72 with 1 Axes>"
            ],
            "image/png": "[encoded data removed]"
          },
          "metadata": {
            "needs_background": "light"
          }
        },
        {
          "output_type": "stream",
          "name": "stdout",
          "text": [
            "\n",
            "\n",
            "\n",
            "[SQUAD F1-score -> 0.0000]\n",
            "\n",
            "Passage    \t-> Knights can't fly! \n",
            "Question   \t-> Who thinks they can't?\n",
            "Answer     \t-> bobby\n",
            "Predictions\t-> 1: the other people who can't know.     2: i't fair! you can't fly!     3: jack\n",
            "\n"
          ]
        },
        {
          "output_type": "display_data",
          "data": {
            "text/plain": [
              "<Figure size 720x72 with 1 Axes>"
            ],
            "image/png": "[encoded data removed]"
          },
          "metadata": {
            "needs_background": "light"
          }
        },
        {
          "output_type": "stream",
          "name": "stdout",
          "text": [
            "\n",
            "\n",
            "\n",
            "[SQUAD F1-score -> 0.0000]\n",
            "\n",
            "Passage    \t-> She named her new noodle friend Joey\n",
            "Question   \t-> Who named him?\n",
            "Answer     \t-> Marsha\n",
            "Predictions\t-> 1: joey     2: her brother     3: her new no\n",
            "\n"
          ]
        },
        {
          "output_type": "display_data",
          "data": {
            "text/plain": [
              "<Figure size 720x72 with 1 Axes>"
            ],
            "image/png": "[encoded data removed]"
          },
          "metadata": {
            "needs_background": "light"
          }
        },
        {
          "output_type": "stream",
          "name": "stdout",
          "text": [
            "\n",
            "\n",
            "\n",
            "\n",
            "####################################################################################################\n",
            "############################################### RACE ###############################################\n",
            "####################################################################################################\n",
            "\n"
          ]
        },
        {
          "output_type": "stream",
          "name": "stderr",
          "text": [
            "                                                 "
          ]
        },
        {
          "output_type": "stream",
          "name": "stdout",
          "text": [
            "\n",
            "[SQUAD F1-score -> 0.0000]\n",
            "\n",
            "Passage    \t-> Kody, was diagnosed with type diabetes at six\n",
            "Question   \t-> How old was Kody when he was diagnosed with diabetes?\n",
            "Answer     \t-> six\n",
            "Predictions\t-> 1: 27     2: 1, 100     3: 28\n",
            "\n"
          ]
        },
        {
          "output_type": "stream",
          "name": "stderr",
          "text": [
            "\r"
          ]
        },
        {
          "output_type": "display_data",
          "data": {
            "text/plain": [
              "<Figure size 720x72 with 1 Axes>"
            ],
            "image/png": "[encoded data removed]"
          },
          "metadata": {
            "needs_background": "light"
          }
        },
        {
          "output_type": "stream",
          "name": "stdout",
          "text": [
            "\n",
            "\n",
            "\n",
            "[SQUAD F1-score -> 0.0000]\n",
            "\n",
            "Passage    \t-> literature\n",
            "Question   \t-> And?\n",
            "Answer     \t-> literature\n",
            "Predictions\t-> 1: yes     2: yes     3: yes\n",
            "\n"
          ]
        },
        {
          "output_type": "display_data",
          "data": {
            "text/plain": [
              "<Figure size 720x72 with 1 Axes>"
            ],
            "image/png": "[encoded data removed]"
          },
          "metadata": {
            "needs_background": "light"
          }
        },
        {
          "output_type": "stream",
          "name": "stdout",
          "text": [
            "\n",
            "\n",
            "\n",
            "[SQUAD F1-score -> 0.0000]\n",
            "\n",
            "Passage    \t->  you will unconsciously form a triangle\n",
            "Question   \t-> What about three folks?\n",
            "Answer     \t-> you will unconsciously form a triangle\n",
            "Predictions\t-> 1: about an arm's width     2: two     3: an arm's length\n",
            "\n"
          ]
        },
        {
          "output_type": "display_data",
          "data": {
            "text/plain": [
              "<Figure size 720x72 with 1 Axes>"
            ],
            "image/png": "[encoded data removed]"
          },
          "metadata": {
            "needs_background": "light"
          }
        },
        {
          "output_type": "stream",
          "name": "stdout",
          "text": [
            "\n",
            "\n",
            "\n",
            "[SQUAD F1-score -> 0.0000]\n",
            "\n",
            "Passage    \t-> Shirley Temple Black\n",
            "Question   \t-> Who is this news story about?\n",
            "Answer     \t-> Shirley Temple Black\n",
            "Predictions\t-> 1: a great man     2: a great storm     3: a great\n",
            "\n"
          ]
        },
        {
          "output_type": "display_data",
          "data": {
            "text/plain": [
              "<Figure size 720x72 with 1 Axes>"
            ],
            "image/png": "[encoded data removed]"
          },
          "metadata": {
            "needs_background": "light"
          }
        },
        {
          "output_type": "stream",
          "name": "stdout",
          "text": [
            "\n",
            "\n",
            "\n",
            "[SQUAD F1-score -> 0.0000]\n",
            "\n",
            "Passage    \t-> Helen began to search for Ed's car\n",
            "Question   \t-> What are the names of the couple?\n",
            "Answer     \t-> Helen and Ed\n",
            "Predictions\t-> 1: lady talking on the phone     2: her husband     3: her doctor's\n",
            "\n"
          ]
        },
        {
          "output_type": "display_data",
          "data": {
            "text/plain": [
              "<Figure size 720x72 with 1 Axes>"
            ],
            "image/png": "[encoded data removed]"
          },
          "metadata": {
            "needs_background": "light"
          }
        },
        {
          "output_type": "stream",
          "name": "stdout",
          "text": [
            "\n",
            "\n",
            "\n",
            "\n",
            "####################################################################################################\n",
            "############################################ WIKIPEDIA #############################################\n",
            "####################################################################################################\n",
            "\n"
          ]
        },
        {
          "output_type": "stream",
          "name": "stderr",
          "text": [
            "                                                 "
          ]
        },
        {
          "output_type": "stream",
          "name": "stdout",
          "text": [
            "\n",
            "[SQUAD F1-score -> 0.0000]\n",
            "\n",
            "Passage    \t->  This is triggered by the pituitary gland, which secretes a surge of hormonal agents into the blood stream, initiating a chain reaction to occur\n",
            "Question   \t-> What alters those?\n",
            "Answer     \t-> hormonal agents\n",
            "Predictions\t-> 1: biology     2: science and economics.     3: a strong range\n",
            "\n"
          ]
        },
        {
          "output_type": "stream",
          "name": "stderr",
          "text": [
            "\r"
          ]
        },
        {
          "output_type": "display_data",
          "data": {
            "text/plain": [
              "<Figure size 720x72 with 1 Axes>"
            ],
            "image/png": "[encoded data removed]"
          },
          "metadata": {
            "needs_background": "light"
          }
        },
        {
          "output_type": "stream",
          "name": "stdout",
          "text": [
            "\n",
            "\n",
            "\n",
            "[SQUAD F1-score -> 0.0000]\n",
            "\n",
            "Passage    \t-> itation needed\n",
            "Question   \t-> Was there a citation for this?\n",
            "Answer     \t-> citation needed\n",
            "Predictions\t-> 1: yes     2: yes     3: yes\n",
            "\n"
          ]
        },
        {
          "output_type": "display_data",
          "data": {
            "text/plain": [
              "<Figure size 720x72 with 1 Axes>"
            ],
            "image/png": "[encoded data removed]"
          },
          "metadata": {
            "needs_background": "light"
          }
        },
        {
          "output_type": "stream",
          "name": "stdout",
          "text": [
            "\n",
            "\n",
            "\n",
            "[SQUAD F1-score -> 0.0000]\n",
            "\n",
            "Passage    \t-> While the MC controls resources and signaling negotiations, the MP operates on the media plane and receives media from each endpoint\n",
            "Question   \t-> Does something work on the media plane?\n",
            "Answer     \t-> the MP\n",
            "Predictions\t-> 1: yes     2: yes     3: yes\n",
            "\n"
          ]
        },
        {
          "output_type": "display_data",
          "data": {
            "text/plain": [
              "<Figure size 720x72 with 1 Axes>"
            ],
            "image/png": "[encoded data removed]"
          },
          "metadata": {
            "needs_background": "light"
          }
        },
        {
          "output_type": "stream",
          "name": "stdout",
          "text": [
            "\n",
            "\n",
            "\n",
            "[SQUAD F1-score -> 0.0000]\n",
            "\n",
            "Passage    \t-> that encircles a lagoon\n",
            "Question   \t-> what is another attribute?\n",
            "Answer     \t-> it encircles a lagoon\n",
            "Predictions\t-> 1: coral reefs     2: a reef     3: a reef\n",
            "\n"
          ]
        },
        {
          "output_type": "display_data",
          "data": {
            "text/plain": [
              "<Figure size 720x72 with 1 Axes>"
            ],
            "image/png": "[encoded data removed]"
          },
          "metadata": {
            "needs_background": "light"
          }
        },
        {
          "output_type": "stream",
          "name": "stdout",
          "text": [
            "\n",
            "\n",
            "\n",
            "[SQUAD F1-score -> 0.0000]\n",
            "\n",
            "Passage    \t-> that the A above middle C be tuned to 440 Hz.\n",
            "Question   \t-> What did they recommend?\n",
            "Answer     \t-> that the A above middle C be tuned to 440 Hz.\n",
            "Predictions\t-> 1: a locomotive machine     2: the united states and other musical instruments.     3: johann schommer\n",
            "\n"
          ]
        },
        {
          "output_type": "display_data",
          "data": {
            "text/plain": [
              "<Figure size 720x72 with 1 Axes>"
            ],
            "image/png": "[encoded data removed]"
          },
          "metadata": {
            "needs_background": "light"
          }
        },
        {
          "output_type": "stream",
          "name": "stdout",
          "text": [
            "\n",
            "\n"
          ]
        }
      ]
    },
    {
      "cell_type": "markdown",
      "source": [
        "As we can see from the examples above ..."
      ],
      "metadata": {
        "id": "fHjrBXjwLwhm"
      }
    },
    {
      "cell_type": "markdown",
      "source": [
        "### BERTTiny - with history"
      ],
      "metadata": {
        "id": "a1CT3HZCK0tM"
      }
    },
    {
      "cell_type": "code",
      "source": [
        "models_folder = 'Models/'\n",
        "model_type = 'bert'\n",
        "with_history = True\n",
        "\n",
        "for source, source_df in grouped_df:\n",
        "    print_source_name(source)\n",
        "\n",
        "    dialogues = source_eval(models_folder, model_type, with_history, source_df)   # Extract 5 worst dialogues \n",
        "    print_worst_answers(dialogues)                                                # Print worst answer for each dialogue (random tie breaking)"
      ],
      "metadata": {
        "id": "7iJ03aJ1LZuF"
      },
      "execution_count": null,
      "outputs": []
    },
    {
      "cell_type": "markdown",
      "source": [
        "As we can see from the examples above ..."
      ],
      "metadata": {
        "id": "lTneMT2DL9dE"
      }
    },
    {
      "cell_type": "markdown",
      "source": [
        "### DistilRoBERTA - without history"
      ],
      "metadata": {
        "id": "qpEoqNtdLeen"
      }
    },
    {
      "cell_type": "code",
      "source": [
        "models_folder = 'Models/'\n",
        "model_type = 'roberta'\n",
        "with_history = False\n",
        "\n",
        "for source, source_df in grouped_df:\n",
        "    print_source_name(source)\n",
        "\n",
        "    dialogues = source_eval(models_folder, model_type, with_history, source_df)   # Extract 5 worst dialogues \n",
        "    print_worst_answers(dialogues)                                                # Print worst answer for each dialogue (random tie breaking)"
      ],
      "metadata": {
        "id": "cg1HjWftLbJl"
      },
      "execution_count": null,
      "outputs": []
    },
    {
      "cell_type": "markdown",
      "source": [
        "As we can see from the examples above ..."
      ],
      "metadata": {
        "id": "N8Z6sHRLL-Vj"
      }
    },
    {
      "cell_type": "markdown",
      "source": [
        "### DistilRoBERTA - with history"
      ],
      "metadata": {
        "id": "FfiMaCLgLe4U"
      }
    },
    {
      "cell_type": "code",
      "source": [
        "models_folder = 'Models/'\n",
        "model_type = 'roberta'\n",
        "with_history = True\n",
        "\n",
        "for source, source_df in grouped_df:\n",
        "    print_source_name(source)\n",
        "\n",
        "    dialogues = source_eval(models_folder, model_type, with_history, source_df)   # Extract 5 worst dialogues \n",
        "    print_worst_answers(dialogues)                                                # Print worst answer for each dialogue (random tie breaking)"
      ],
      "metadata": {
        "id": "D3EeY9NiLbgu"
      },
      "execution_count": null,
      "outputs": []
    },
    {
      "cell_type": "markdown",
      "source": [
        "As we can see from the examples above ..."
      ],
      "metadata": {
        "id": "ylFur0buL-3u"
      }
    },
    {
      "cell_type": "markdown",
      "source": [
        "# Assignment Evaluation\n",
        "\n",
        "The following assignment points will be awarded for each task as follows:\n",
        "\n",
        "* Task 1, Pre-processing $\\rightarrow$ 0.5 points.\n",
        "* Task 2, Dataset Splitting $\\rightarrow$ 0.5 points.\n",
        "* Task 3 and 4, Models Definition $\\rightarrow$ 1.0 points.\n",
        "* Task 5 and 6, Models Training and Evaluation $\\rightarrow$ 2.0 points.\n",
        "* Task 7, Analysis $\\rightarrow$ 1.0 points.\n",
        "* Report $\\rightarrow$ 1.0 points.\n",
        "\n",
        "**Total** = 6 points <br>\n",
        "\n",
        "We may award an additional 0.5 points for outstanding submissions. \n",
        " \n",
        "**Speed Bonus** = 0.5 extra points <br>"
      ],
      "metadata": {
        "id": "28e3fe6b",
        "papermill": {
          "duration": 0.201494,
          "end_time": "2022-12-30T02:18:19.811743",
          "exception": false,
          "start_time": "2022-12-30T02:18:19.610249",
          "status": "completed"
        },
        "tags": []
      }
    },
    {
      "cell_type": "markdown",
      "source": [
        "# Report\n",
        "\n",
        "We apply the rules described in Assignment 1 regarding the report.\n",
        "* Write a clear and concise report following the given overleaf template (**max 2 pages**).\n",
        "* Report validation and test results in a table.$^1$\n",
        "* **Avoid reporting** code snippets or copy-paste terminal outputs $\\rightarrow$ **Provide a clean schema** of what you want to show"
      ],
      "metadata": {
        "id": "0f71f96d",
        "papermill": {
          "duration": 0.197205,
          "end_time": "2022-12-30T02:18:20.205576",
          "exception": false,
          "start_time": "2022-12-30T02:18:20.008371",
          "status": "completed"
        },
        "tags": []
      }
    },
    {
      "cell_type": "markdown",
      "source": [
        "# Comments and Organization\n",
        "\n",
        "Remember to properly comment your code (it is not necessary to comment each single line) and don't forget to describe your work!\n",
        "\n",
        "Structure your code for readability and maintenance. If you work with Colab, use sections. \n",
        "\n",
        "This allows you to build clean and modular code, as well as easy to read and to debug (notebooks can be quite tricky time to time)."
      ],
      "metadata": {
        "id": "fe8e5fee",
        "papermill": {
          "duration": 0.193981,
          "end_time": "2022-12-30T02:18:20.594117",
          "exception": false,
          "start_time": "2022-12-30T02:18:20.400136",
          "status": "completed"
        },
        "tags": []
      }
    },
    {
      "cell_type": "markdown",
      "source": [
        "# FAQ (READ THIS!)\n",
        "\n",
        "---\n",
        "\n",
        "**Question**: Does Task 3 also include data tokenization and conversion step?\n",
        "\n",
        "**Answer:** Yes! These steps are usually straightforward since ```transformers``` also offers a specific tokenizer for each model.\n",
        "\n",
        "**Example**: \n",
        "\n",
        "```\n",
        "tokenizer = AutoTokenizer.from_pretrained(\"bert-base-cased\")\n",
        "encoded_text = tokenizer(text)\n",
        "%% Alternatively\n",
        "inputs = tokenizer.tokenize(text, add_special_tokens=True, max_length=min(max_length, 512))\n",
        "input_ids, attention_mask = inputs['input_ids'], inputs['attention_mask']\n",
        "```\n",
        "\n",
        "**Suggestion**: Hugginface's documentation is full of tutorials and user-friendly APIs.\n",
        "\n",
        "---\n",
        "---\n",
        "\n",
        "**Question**: I'm hitting **out of memory error** when training my models, do you have any suggestions?\n",
        "\n",
        "**Answer**: Here are some common workarounds:\n",
        "\n",
        "1. Try decreasing the mini-batch size\n",
        "2. Try applying a different padding strategy (if you are applying padding): e.g. use quantiles instead of maximum sequence length\n",
        "\n",
        "---\n",
        "---"
      ],
      "metadata": {
        "id": "367b8b0b",
        "papermill": {
          "duration": 0.191831,
          "end_time": "2022-12-30T02:18:20.978191",
          "exception": false,
          "start_time": "2022-12-30T02:18:20.786360",
          "status": "completed"
        },
        "tags": []
      }
    },
    {
      "cell_type": "markdown",
      "source": [
        "# Contact\n",
        "\n",
        "For any doubt, question, issue or help, you can always contact us at the following email addresses:\n",
        "\n",
        "Teaching Assistants:\n",
        "\n",
        "* Andrea Galassi -> a.galassi@unibo.it\n",
        "* Federico Ruggeri -> federico.ruggeri6@unibo.it\n",
        "\n",
        "Professor:\n",
        "\n",
        "* Paolo Torroni -> p.torroni@unibo.it"
      ],
      "metadata": {
        "id": "0d2e1691",
        "papermill": {
          "duration": 0.194015,
          "end_time": "2022-12-30T02:18:21.364447",
          "exception": false,
          "start_time": "2022-12-30T02:18:21.170432",
          "status": "completed"
        },
        "tags": []
      }
    },
    {
      "cell_type": "markdown",
      "source": [
        "# The End!\n",
        "\n",
        "Questions?"
      ],
      "metadata": {
        "id": "4170f769",
        "papermill": {
          "duration": 0.198101,
          "end_time": "2022-12-30T02:18:21.757374",
          "exception": false,
          "start_time": "2022-12-30T02:18:21.559273",
          "status": "completed"
        },
        "tags": []
      }
    }
  ]
}